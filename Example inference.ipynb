{
 "cells": [
  {
   "cell_type": "code",
   "execution_count": 8,
   "id": "bbbbe07f-0378-4c87-b01e-4f14194d020f",
   "metadata": {},
   "outputs": [],
   "source": [
    "import util.inference as inference\n",
    "import util.modeling as modeling\n",
    "import util.GradCam as GradCam"
   ]
  },
  {
   "cell_type": "markdown",
   "id": "ed409d4f-f7cb-49b7-a613-76c3fac9059a",
   "metadata": {},
   "source": [
    "# MobileNet - Ensamble"
   ]
  },
  {
   "cell_type": "code",
   "execution_count": 21,
   "id": "15ad1d82-f203-44a6-bee7-588f3be8f41d",
   "metadata": {},
   "outputs": [],
   "source": [
    "path_to_models = \"models/ensemble_witth_artifical_test/\"\n",
    "path_to_img = 'images/plume/20230223_methane_mixing_ratio_id_8446.tif'\n",
    "device = GradCam.get_device(num_GPU=1)"
   ]
  },
  {
   "cell_type": "code",
   "execution_count": 22,
   "id": "40eb97d0-4811-4987-bc34-c5a2acf3e2e6",
   "metadata": {},
   "outputs": [
    {
     "name": "stdout",
     "output_type": "stream",
     "text": [
      "Probability of plume: 0.9070687294006348\n",
      "Predicted label: 1\n",
      "Best model number: 0\n"
     ]
    }
   ],
   "source": [
    "prob, lbl, best_model = inference.infer_mobilenet(path_to_models=path_to_models, path_to_img=path_to_img, device=device)\n",
    "print(f\"Probability of plume: {prob}\")\n",
    "print(f\"Predicted label: {lbl}\")\n",
    "print(f\"Best model number: {best_model}\")"
   ]
  },
  {
   "cell_type": "markdown",
   "id": "a5ad60cd-0092-4ee8-89eb-f1c7b7c5b37b",
   "metadata": {},
   "source": [
    "# ResNet34"
   ]
  },
  {
   "cell_type": "code",
   "execution_count": 2,
   "id": "7d23e0b5-4853-45e3-881d-da1cc362531e",
   "metadata": {},
   "outputs": [],
   "source": [
    "# loading model\n",
    "model = inference.load_resnet34()"
   ]
  },
  {
   "cell_type": "code",
   "execution_count": 3,
   "id": "812b8d87-86e8-43fd-be2f-1a651cd016b3",
   "metadata": {},
   "outputs": [
    {
     "name": "stderr",
     "output_type": "stream",
     "text": [
      "C:\\Users\\lpsze\\anaconda3\\envs\\QB_hackathon\\lib\\site-packages\\torch\\nn\\parallel\\data_parallel.py:32: UserWarning: \n",
      "    There is an imbalance between your GPUs. You may want to exclude GPU 1 which\n",
      "    has less than 75% of the memory or cores of GPU 0. You can do so by setting\n",
      "    the device_ids argument to DataParallel, or by setting the CUDA_VISIBLE_DEVICES\n",
      "    environment variable.\n",
      "  warnings.warn(imbalance_warn.format(device_ids[min_pos], device_ids[max_pos]))\n"
     ]
    }
   ],
   "source": [
    "# getting to correct device\n",
    "device, model = modeling.get_device(model)"
   ]
  },
  {
   "cell_type": "code",
   "execution_count": 4,
   "id": "ca4061e3-c06a-484c-b61d-589b9c781c6d",
   "metadata": {},
   "outputs": [
    {
     "name": "stdout",
     "output_type": "stream",
     "text": [
      "Probability of plume: 0.9571205973625183\n",
      "Predicted label: 1\n"
     ]
    }
   ],
   "source": [
    "path_to_img = 'images/plume/20230223_methane_mixing_ratio_id_8446.tif'\n",
    "\n",
    "# Prediction \n",
    "prob, lbl = inference.infer(model=model,path_to_img=path_to_img,device=device)\n",
    "print(f\"Probability of plume: {prob}\")\n",
    "print(f\"Predicted label: {lbl}\")"
   ]
  }
 ],
 "metadata": {
  "kernelspec": {
   "display_name": "QB_hackathon",
   "language": "python",
   "name": "qb_hackathon"
  },
  "language_info": {
   "codemirror_mode": {
    "name": "ipython",
    "version": 3
   },
   "file_extension": ".py",
   "mimetype": "text/x-python",
   "name": "python",
   "nbconvert_exporter": "python",
   "pygments_lexer": "ipython3",
   "version": "3.10.8"
  }
 },
 "nbformat": 4,
 "nbformat_minor": 5
}

{
 "cells": [
  {
   "cell_type": "code",
   "execution_count": 11,
   "id": "bbbbe07f-0378-4c87-b01e-4f14194d020f",
   "metadata": {},
   "outputs": [],
   "source": [
    "import util.inference as inference\n",
    "import util.modeling as modeling\n",
    "import torch"
   ]
  },
  {
   "cell_type": "code",
   "execution_count": 2,
   "id": "7d23e0b5-4853-45e3-881d-da1cc362531e",
   "metadata": {},
   "outputs": [],
   "source": [
    "# loading model\n",
    "model = inference.load_resnet34()"
   ]
  },
  {
   "cell_type": "code",
   "execution_count": 3,
   "id": "812b8d87-86e8-43fd-be2f-1a651cd016b3",
   "metadata": {},
   "outputs": [
    {
     "name": "stderr",
     "output_type": "stream",
     "text": [
      "C:\\Users\\lpsze\\anaconda3\\envs\\QB_hackathon\\lib\\site-packages\\torch\\nn\\parallel\\data_parallel.py:32: UserWarning: \n",
      "    There is an imbalance between your GPUs. You may want to exclude GPU 1 which\n",
      "    has less than 75% of the memory or cores of GPU 0. You can do so by setting\n",
      "    the device_ids argument to DataParallel, or by setting the CUDA_VISIBLE_DEVICES\n",
      "    environment variable.\n",
      "  warnings.warn(imbalance_warn.format(device_ids[min_pos], device_ids[max_pos]))\n"
     ]
    }
   ],
   "source": [
    "# getting to correct device\n",
    "device, model = modeling.get_device(model)"
   ]
  },
  {
   "cell_type": "code",
   "execution_count": 14,
   "id": "ca4061e3-c06a-484c-b61d-589b9c781c6d",
   "metadata": {},
   "outputs": [
    {
     "ename": "ValueError",
     "evalue": "not enough values to unpack (expected 2, got 1)",
     "output_type": "error",
     "traceback": [
      "\u001b[1;31m---------------------------------------------------------------------------\u001b[0m",
      "\u001b[1;31mValueError\u001b[0m                                Traceback (most recent call last)",
      "Cell \u001b[1;32mIn[14], line 4\u001b[0m\n\u001b[0;32m      1\u001b[0m path_to_img \u001b[38;5;241m=\u001b[39m \u001b[38;5;124m'\u001b[39m\u001b[38;5;124mimages/plume/20230204_methane_mixing_ratio_id_2884.tif\u001b[39m\u001b[38;5;124m'\u001b[39m\n\u001b[0;32m      3\u001b[0m \u001b[38;5;66;03m# Prediction \u001b[39;00m\n\u001b[1;32m----> 4\u001b[0m prob, lbl \u001b[38;5;241m=\u001b[39m inference\u001b[38;5;241m.\u001b[39minfer(model\u001b[38;5;241m=\u001b[39mmodel,path_to_img\u001b[38;5;241m=\u001b[39mpath_to_img,device\u001b[38;5;241m=\u001b[39mdevice)\n\u001b[0;32m      5\u001b[0m \u001b[38;5;28mprint\u001b[39m(\u001b[38;5;124mf\u001b[39m\u001b[38;5;124m\"\u001b[39m\u001b[38;5;124mProbability of plume: \u001b[39m\u001b[38;5;132;01m{\u001b[39;00mprob\u001b[38;5;132;01m}\u001b[39;00m\u001b[38;5;124m\"\u001b[39m)\n\u001b[0;32m      6\u001b[0m \u001b[38;5;28mprint\u001b[39m(\u001b[38;5;124mf\u001b[39m\u001b[38;5;124m\"\u001b[39m\u001b[38;5;124mPredicted label: \u001b[39m\u001b[38;5;132;01m{\u001b[39;00mlbl\u001b[38;5;132;01m}\u001b[39;00m\u001b[38;5;124m\"\u001b[39m)\n",
      "\u001b[1;31mValueError\u001b[0m: not enough values to unpack (expected 2, got 1)"
     ]
    }
   ],
   "source": [
    "path_to_img = 'images/plume/20230204_methane_mixing_ratio_id_2884.tif'\n",
    "\n",
    "# Prediction \n",
    "prob, lbl = inference.infer(model=model,path_to_img=path_to_img,device=device)\n",
    "print(f\"Probability of plume: {prob}\")\n",
    "print(f\"Predicted label: {lbl}\")"
   ]
  }
 ],
 "metadata": {
  "kernelspec": {
   "display_name": "QB_hackathon",
   "language": "python",
   "name": "qb_hackathon"
  },
  "language_info": {
   "codemirror_mode": {
    "name": "ipython",
    "version": 3
   },
   "file_extension": ".py",
   "mimetype": "text/x-python",
   "name": "python",
   "nbconvert_exporter": "python",
   "pygments_lexer": "ipython3",
   "version": "3.10.8"
  }
 },
 "nbformat": 4,
 "nbformat_minor": 5
}

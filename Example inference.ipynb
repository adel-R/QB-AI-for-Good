{
 "cells": [
  {
   "cell_type": "code",
   "execution_count": 1,
   "id": "bbbbe07f-0378-4c87-b01e-4f14194d020f",
   "metadata": {},
   "outputs": [],
   "source": [
    "import util.inference as inference\n",
    "import util.modeling as modeling"
   ]
  },
  {
   "cell_type": "code",
   "execution_count": 2,
   "id": "7d23e0b5-4853-45e3-881d-da1cc362531e",
   "metadata": {},
   "outputs": [],
   "source": [
    "# loading model\n",
    "model = inference.load_resnet34()"
   ]
  },
  {
   "cell_type": "code",
   "execution_count": 3,
   "id": "812b8d87-86e8-43fd-be2f-1a651cd016b3",
   "metadata": {},
   "outputs": [
    {
     "name": "stderr",
     "output_type": "stream",
     "text": [
      "C:\\Users\\lpsze\\anaconda3\\envs\\QB_hackathon\\lib\\site-packages\\torch\\nn\\parallel\\data_parallel.py:32: UserWarning: \n",
      "    There is an imbalance between your GPUs. You may want to exclude GPU 1 which\n",
      "    has less than 75% of the memory or cores of GPU 0. You can do so by setting\n",
      "    the device_ids argument to DataParallel, or by setting the CUDA_VISIBLE_DEVICES\n",
      "    environment variable.\n",
      "  warnings.warn(imbalance_warn.format(device_ids[min_pos], device_ids[max_pos]))\n"
     ]
    }
   ],
   "source": [
    "# getting to correct device\n",
    "device, model = modeling.get_device(model)"
   ]
  },
  {
   "cell_type": "code",
   "execution_count": 4,
   "id": "ca4061e3-c06a-484c-b61d-589b9c781c6d",
   "metadata": {},
   "outputs": [
    {
     "name": "stdout",
     "output_type": "stream",
     "text": [
      "Probability of plume: 0.43874767422676086\n",
      "Predicted label: 0\n"
     ]
    }
   ],
   "source": [
    "path_to_img = 'images/plume/20230223_methane_mixing_ratio_id_8446.tif'\n",
    "\n",
    "# Prediction \n",
    "prob, lbl = inference.infer(model=model,path_to_img=path_to_img,device=device)\n",
    "print(f\"Probability of plume: {prob}\")\n",
    "print(f\"Predicted label: {lbl}\")"
   ]
  }
 ],
 "metadata": {
  "kernelspec": {
   "display_name": "QB_hackathon",
   "language": "python",
   "name": "qb_hackathon"
  },
  "language_info": {
   "codemirror_mode": {
    "name": "ipython",
    "version": 3
   },
   "file_extension": ".py",
   "mimetype": "text/x-python",
   "name": "python",
   "nbconvert_exporter": "python",
   "pygments_lexer": "ipython3",
   "version": "3.10.8"
  }
 },
 "nbformat": 4,
 "nbformat_minor": 5
}

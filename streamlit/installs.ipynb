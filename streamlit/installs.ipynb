{
 "cells": [
  {
   "cell_type": "code",
   "execution_count": null,
   "metadata": {},
   "outputs": [],
   "source": [
    "!pip install numpy pandas matplotlib sklearn openpyxl"
   ]
  },
  {
   "cell_type": "code",
   "execution_count": 4,
   "metadata": {},
   "outputs": [
    {
     "name": "stdout",
     "output_type": "stream",
     "text": [
      "Collecting torch\n",
      "  Downloading torch-2.0.1-cp39-cp39-win_amd64.whl (172.4 MB)\n",
      "     -------------------------------------- 172.4/172.4 MB 1.7 MB/s eta 0:00:00\n",
      "Collecting networkx\n",
      "  Downloading networkx-3.1-py3-none-any.whl (2.1 MB)\n",
      "     ---------------------------------------- 2.1/2.1 MB 10.2 MB/s eta 0:00:00\n",
      "Collecting sympy\n",
      "  Downloading sympy-1.12-py3-none-any.whl (5.7 MB)\n",
      "     ---------------------------------------- 5.7/5.7 MB 11.1 MB/s eta 0:00:00\n",
      "Requirement already satisfied: jinja2 in c:\\users\\adelr\\anaconda3\\envs\\qb\\lib\\site-packages (from torch) (3.1.2)\n",
      "Requirement already satisfied: typing-extensions in c:\\users\\adelr\\anaconda3\\envs\\qb\\lib\\site-packages (from torch) (4.5.0)\n",
      "Collecting filelock\n",
      "  Downloading filelock-3.12.0-py3-none-any.whl (10 kB)\n",
      "Requirement already satisfied: MarkupSafe>=2.0 in c:\\users\\adelr\\anaconda3\\envs\\qb\\lib\\site-packages (from jinja2->torch) (2.1.2)\n",
      "Collecting mpmath>=0.19\n",
      "  Downloading mpmath-1.3.0-py3-none-any.whl (536 kB)\n",
      "     ------------------------------------- 536.2/536.2 kB 17.0 MB/s eta 0:00:00\n",
      "Installing collected packages: mpmath, sympy, networkx, filelock, torch\n",
      "Successfully installed filelock-3.12.0 mpmath-1.3.0 networkx-3.1 sympy-1.12 torch-2.0.1\n"
     ]
    }
   ],
   "source": [
    "!pip install torch"
   ]
  },
  {
   "cell_type": "code",
   "execution_count": 5,
   "metadata": {},
   "outputs": [
    {
     "name": "stdout",
     "output_type": "stream",
     "text": [
      "Collecting geocoder\n",
      "  Downloading geocoder-1.38.1-py2.py3-none-any.whl (98 kB)\n",
      "     ---------------------------------------- 98.6/98.6 kB 5.5 MB/s eta 0:00:00\n",
      "Collecting xgboost\n",
      "  Downloading xgboost-1.7.5-py3-none-win_amd64.whl (70.9 MB)\n",
      "     ---------------------------------------- 70.9/70.9 MB 2.8 MB/s eta 0:00:00\n",
      "Collecting ray\n",
      "  Downloading ray-2.4.0-cp39-cp39-win_amd64.whl (21.7 MB)\n",
      "     ---------------------------------------- 21.7/21.7 MB 5.9 MB/s eta 0:00:00\n",
      "Requirement already satisfied: six in c:\\users\\adelr\\anaconda3\\envs\\qb\\lib\\site-packages (from geocoder) (1.16.0)\n",
      "Requirement already satisfied: click in c:\\users\\adelr\\anaconda3\\envs\\qb\\lib\\site-packages (from geocoder) (8.1.3)\n",
      "Collecting future\n",
      "  Downloading future-0.18.3.tar.gz (840 kB)\n",
      "     -------------------------------------- 840.9/840.9 kB 8.8 MB/s eta 0:00:00\n",
      "  Preparing metadata (setup.py): started\n",
      "  Preparing metadata (setup.py): finished with status 'done'\n",
      "Requirement already satisfied: requests in c:\\users\\adelr\\anaconda3\\envs\\qb\\lib\\site-packages (from geocoder) (2.30.0)\n",
      "Collecting ratelim\n",
      "  Downloading ratelim-0.1.6-py2.py3-none-any.whl (4.0 kB)\n",
      "Collecting scipy\n",
      "  Downloading scipy-1.10.1-cp39-cp39-win_amd64.whl (42.5 MB)\n",
      "     ---------------------------------------- 42.5/42.5 MB 3.5 MB/s eta 0:00:00\n",
      "Requirement already satisfied: numpy in c:\\users\\adelr\\anaconda3\\envs\\qb\\lib\\site-packages (from xgboost) (1.24.3)\n",
      "Collecting virtualenv<20.21.1,>=20.0.24\n",
      "  Downloading virtualenv-20.21.0-py3-none-any.whl (8.7 MB)\n",
      "     ---------------------------------------- 8.7/8.7 MB 5.5 MB/s eta 0:00:00\n",
      "Requirement already satisfied: jsonschema in c:\\users\\adelr\\anaconda3\\envs\\qb\\lib\\site-packages (from ray) (4.17.3)\n",
      "Requirement already satisfied: protobuf!=3.19.5,>=3.15.3 in c:\\users\\adelr\\anaconda3\\envs\\qb\\lib\\site-packages (from ray) (3.20.3)\n",
      "Requirement already satisfied: attrs in c:\\users\\adelr\\anaconda3\\envs\\qb\\lib\\site-packages (from ray) (23.1.0)\n",
      "Collecting grpcio<=1.51.3,>=1.32.0\n",
      "  Downloading grpcio-1.51.3-cp39-cp39-win_amd64.whl (3.7 MB)\n",
      "     ---------------------------------------- 3.7/3.7 MB 3.8 MB/s eta 0:00:00\n",
      "Requirement already satisfied: filelock in c:\\users\\adelr\\anaconda3\\envs\\qb\\lib\\site-packages (from ray) (3.12.0)\n",
      "Collecting pyyaml\n",
      "  Downloading PyYAML-6.0-cp39-cp39-win_amd64.whl (151 kB)\n",
      "     -------------------------------------- 151.6/151.6 kB 4.6 MB/s eta 0:00:00\n",
      "Collecting msgpack<2.0.0,>=1.0.0\n",
      "  Downloading msgpack-1.0.5-cp39-cp39-win_amd64.whl (62 kB)\n",
      "     ---------------------------------------- 62.8/62.8 kB 1.6 MB/s eta 0:00:00\n",
      "Collecting aiosignal\n",
      "  Downloading aiosignal-1.3.1-py3-none-any.whl (7.6 kB)\n",
      "Collecting frozenlist\n",
      "  Downloading frozenlist-1.3.3-cp39-cp39-win_amd64.whl (34 kB)\n",
      "Requirement already satisfied: colorama in c:\\users\\adelr\\anaconda3\\envs\\qb\\lib\\site-packages (from click->geocoder) (0.4.6)\n",
      "Collecting distlib<1,>=0.3.6\n",
      "  Downloading distlib-0.3.6-py2.py3-none-any.whl (468 kB)\n",
      "     -------------------------------------- 468.5/468.5 kB 5.8 MB/s eta 0:00:00\n",
      "Requirement already satisfied: platformdirs<4,>=2.4 in c:\\users\\adelr\\anaconda3\\envs\\qb\\lib\\site-packages (from virtualenv<20.21.1,>=20.0.24->ray) (3.5.1)\n",
      "Requirement already satisfied: pyrsistent!=0.17.0,!=0.17.1,!=0.17.2,>=0.14.0 in c:\\users\\adelr\\anaconda3\\envs\\qb\\lib\\site-packages (from jsonschema->ray) (0.19.3)\n",
      "Requirement already satisfied: decorator in c:\\users\\adelr\\anaconda3\\envs\\qb\\lib\\site-packages (from ratelim->geocoder) (5.1.1)\n",
      "Requirement already satisfied: charset-normalizer<4,>=2 in c:\\users\\adelr\\anaconda3\\envs\\qb\\lib\\site-packages (from requests->geocoder) (3.1.0)\n",
      "Requirement already satisfied: urllib3<3,>=1.21.1 in c:\\users\\adelr\\anaconda3\\envs\\qb\\lib\\site-packages (from requests->geocoder) (2.0.2)\n",
      "Requirement already satisfied: idna<4,>=2.5 in c:\\users\\adelr\\anaconda3\\envs\\qb\\lib\\site-packages (from requests->geocoder) (3.4)\n",
      "Requirement already satisfied: certifi>=2017.4.17 in c:\\users\\adelr\\anaconda3\\envs\\qb\\lib\\site-packages (from requests->geocoder) (2023.5.7)\n",
      "Building wheels for collected packages: future\n",
      "  Building wheel for future (setup.py): started\n",
      "  Building wheel for future (setup.py): finished with status 'done'\n",
      "  Created wheel for future: filename=future-0.18.3-py3-none-any.whl size=492055 sha256=d727600d92c3cd3000eef6a5fd05a8092e73d9452bfdca38ad1ac12f492c8130\n",
      "  Stored in directory: c:\\users\\adelr\\appdata\\local\\pip\\cache\\wheels\\bf\\5d\\6a\\2e53874f7ec4e2bede522385439531fafec8fafe005b5c3d1b\n",
      "Successfully built future\n",
      "Installing collected packages: msgpack, distlib, virtualenv, scipy, ratelim, pyyaml, grpcio, future, frozenlist, xgboost, geocoder, aiosignal, ray\n",
      "Successfully installed aiosignal-1.3.1 distlib-0.3.6 frozenlist-1.3.3 future-0.18.3 geocoder-1.38.1 grpcio-1.51.3 msgpack-1.0.5 pyyaml-6.0 ratelim-0.1.6 ray-2.4.0 scipy-1.10.1 virtualenv-20.21.0 xgboost-1.7.5\n"
     ]
    }
   ],
   "source": [
    "!pip install geocoder xgboost ray"
   ]
  },
  {
   "cell_type": "code",
   "execution_count": 6,
   "metadata": {},
   "outputs": [
    {
     "name": "stdout",
     "output_type": "stream",
     "text": [
      "Collecting geopandas\n",
      "  Downloading geopandas-0.13.0-py3-none-any.whl (1.1 MB)\n",
      "     ---------------------------------------- 1.1/1.1 MB 8.7 MB/s eta 0:00:00\n",
      "Collecting shapely\n",
      "  Downloading shapely-2.0.1-cp39-cp39-win_amd64.whl (1.4 MB)\n",
      "     ---------------------------------------- 1.4/1.4 MB 17.4 MB/s eta 0:00:00\n",
      "Collecting reverse_geocoder\n",
      "  Downloading reverse_geocoder-1.5.1.tar.gz (2.2 MB)\n",
      "     ---------------------------------------- 2.2/2.2 MB 16.0 MB/s eta 0:00:00\n",
      "  Preparing metadata (setup.py): started\n",
      "  Preparing metadata (setup.py): finished with status 'done'\n",
      "Collecting pycountry\n",
      "  Downloading pycountry-22.3.5.tar.gz (10.1 MB)\n",
      "     --------------------------------------- 10.1/10.1 MB 14.1 MB/s eta 0:00:00\n",
      "  Installing build dependencies: started\n",
      "  Installing build dependencies: finished with status 'done'\n",
      "  Getting requirements to build wheel: started\n",
      "  Getting requirements to build wheel: finished with status 'done'\n",
      "  Preparing metadata (pyproject.toml): started\n",
      "  Preparing metadata (pyproject.toml): finished with status 'done'\n",
      "Collecting fiona>=1.8.19\n",
      "  Downloading Fiona-1.9.3-cp39-cp39-win_amd64.whl (22.0 MB)\n",
      "     ---------------------------------------- 22.0/22.0 MB 6.7 MB/s eta 0:00:00\n",
      "Requirement already satisfied: pandas>=1.1.0 in c:\\users\\adelr\\anaconda3\\envs\\qb\\lib\\site-packages (from geopandas) (2.0.1)\n",
      "Collecting pyproj>=3.0.1\n",
      "  Downloading pyproj-3.5.0-cp39-cp39-win_amd64.whl (5.1 MB)\n",
      "     ---------------------------------------- 5.1/5.1 MB 12.5 MB/s eta 0:00:00\n",
      "Requirement already satisfied: packaging in c:\\users\\adelr\\anaconda3\\envs\\qb\\lib\\site-packages (from geopandas) (23.1)\n",
      "Requirement already satisfied: numpy>=1.14 in c:\\users\\adelr\\anaconda3\\envs\\qb\\lib\\site-packages (from shapely) (1.24.3)\n",
      "Requirement already satisfied: scipy>=0.17.1 in c:\\users\\adelr\\anaconda3\\envs\\qb\\lib\\site-packages (from reverse_geocoder) (1.10.1)\n",
      "Requirement already satisfied: setuptools in c:\\users\\adelr\\anaconda3\\envs\\qb\\lib\\site-packages (from pycountry) (66.0.0)\n",
      "Requirement already satisfied: click-plugins>=1.0 in c:\\users\\adelr\\anaconda3\\envs\\qb\\lib\\site-packages (from fiona>=1.8.19->geopandas) (1.1.1)\n",
      "Requirement already satisfied: importlib-metadata in c:\\users\\adelr\\anaconda3\\envs\\qb\\lib\\site-packages (from fiona>=1.8.19->geopandas) (6.6.0)\n",
      "Requirement already satisfied: click~=8.0 in c:\\users\\adelr\\anaconda3\\envs\\qb\\lib\\site-packages (from fiona>=1.8.19->geopandas) (8.1.3)\n",
      "Collecting munch>=2.3.2\n",
      "  Downloading munch-2.5.0-py2.py3-none-any.whl (10 kB)\n",
      "Requirement already satisfied: attrs>=19.2.0 in c:\\users\\adelr\\anaconda3\\envs\\qb\\lib\\site-packages (from fiona>=1.8.19->geopandas) (23.1.0)\n",
      "Requirement already satisfied: certifi in c:\\users\\adelr\\anaconda3\\envs\\qb\\lib\\site-packages (from fiona>=1.8.19->geopandas) (2023.5.7)\n",
      "Requirement already satisfied: cligj>=0.5 in c:\\users\\adelr\\anaconda3\\envs\\qb\\lib\\site-packages (from fiona>=1.8.19->geopandas) (0.7.2)\n",
      "Requirement already satisfied: tzdata>=2022.1 in c:\\users\\adelr\\anaconda3\\envs\\qb\\lib\\site-packages (from pandas>=1.1.0->geopandas) (2023.3)\n",
      "Requirement already satisfied: pytz>=2020.1 in c:\\users\\adelr\\anaconda3\\envs\\qb\\lib\\site-packages (from pandas>=1.1.0->geopandas) (2023.3)\n",
      "Requirement already satisfied: python-dateutil>=2.8.2 in c:\\users\\adelr\\anaconda3\\envs\\qb\\lib\\site-packages (from pandas>=1.1.0->geopandas) (2.8.2)\n",
      "Requirement already satisfied: colorama in c:\\users\\adelr\\anaconda3\\envs\\qb\\lib\\site-packages (from click~=8.0->fiona>=1.8.19->geopandas) (0.4.6)\n",
      "Requirement already satisfied: six in c:\\users\\adelr\\anaconda3\\envs\\qb\\lib\\site-packages (from munch>=2.3.2->fiona>=1.8.19->geopandas) (1.16.0)\n",
      "Requirement already satisfied: zipp>=0.5 in c:\\users\\adelr\\anaconda3\\envs\\qb\\lib\\site-packages (from importlib-metadata->fiona>=1.8.19->geopandas) (3.15.0)\n",
      "Building wheels for collected packages: reverse_geocoder, pycountry\n",
      "  Building wheel for reverse_geocoder (setup.py): started\n",
      "  Building wheel for reverse_geocoder (setup.py): finished with status 'done'\n",
      "  Created wheel for reverse_geocoder: filename=reverse_geocoder-1.5.1-py3-none-any.whl size=2268077 sha256=b3406fa272bc25789f535aeb1fe09045ce1cd55a281c3c818799d3950a8efb76\n",
      "  Stored in directory: c:\\users\\adelr\\appdata\\local\\pip\\cache\\wheels\\10\\05\\be\\d2edd4ff207cf625ce8bd20cf1493c27838828e8920aff9f4e\n",
      "  Building wheel for pycountry (pyproject.toml): started\n",
      "  Building wheel for pycountry (pyproject.toml): finished with status 'done'\n",
      "  Created wheel for pycountry: filename=pycountry-22.3.5-py2.py3-none-any.whl size=10681896 sha256=368e2cbe72ce0f368d301c120c9b197a35c5008a3b86c2c91c753a25be8fd35e\n",
      "  Stored in directory: c:\\users\\adelr\\appdata\\local\\pip\\cache\\wheels\\47\\15\\92\\e6dc85fcb0686c82e1edbcfdf80cfe4808c058813fed0baa8f\n",
      "Successfully built reverse_geocoder pycountry\n",
      "Installing collected packages: shapely, pyproj, pycountry, munch, reverse_geocoder, fiona, geopandas\n",
      "Successfully installed fiona-1.9.3 geopandas-0.13.0 munch-2.5.0 pycountry-22.3.5 pyproj-3.5.0 reverse_geocoder-1.5.1 shapely-2.0.1\n"
     ]
    }
   ],
   "source": [
    "!pip install geopandas shapely reverse_geocoder pycountry"
   ]
  },
  {
   "cell_type": "code",
   "execution_count": 1,
   "metadata": {},
   "outputs": [
    {
     "name": "stdout",
     "output_type": "stream",
     "text": [
      "Collecting mapclassify\n",
      "  Downloading mapclassify-2.5.0-py3-none-any.whl (39 kB)\n",
      "Requirement already satisfied: networkx in c:\\users\\adelr\\anaconda3\\envs\\qb\\lib\\site-packages (from mapclassify) (3.1)\n",
      "Collecting scikit-learn\n",
      "  Downloading scikit_learn-1.2.2-cp39-cp39-win_amd64.whl (8.4 MB)\n",
      "     ---------------------------------------- 8.4/8.4 MB 11.4 MB/s eta 0:00:00\n",
      "Requirement already satisfied: numpy>=1.3 in c:\\users\\adelr\\anaconda3\\envs\\qb\\lib\\site-packages (from mapclassify) (1.24.3)\n",
      "Requirement already satisfied: scipy>=1.0 in c:\\users\\adelr\\anaconda3\\envs\\qb\\lib\\site-packages (from mapclassify) (1.10.1)\n",
      "Requirement already satisfied: pandas>=1.0 in c:\\users\\adelr\\anaconda3\\envs\\qb\\lib\\site-packages (from mapclassify) (2.0.1)\n",
      "Requirement already satisfied: pytz>=2020.1 in c:\\users\\adelr\\anaconda3\\envs\\qb\\lib\\site-packages (from pandas>=1.0->mapclassify) (2023.3)\n",
      "Requirement already satisfied: python-dateutil>=2.8.2 in c:\\users\\adelr\\anaconda3\\envs\\qb\\lib\\site-packages (from pandas>=1.0->mapclassify) (2.8.2)\n",
      "Requirement already satisfied: tzdata>=2022.1 in c:\\users\\adelr\\anaconda3\\envs\\qb\\lib\\site-packages (from pandas>=1.0->mapclassify) (2023.3)\n",
      "Collecting joblib>=1.1.1\n",
      "  Downloading joblib-1.2.0-py3-none-any.whl (297 kB)\n",
      "     -------------------------------------- 298.0/298.0 kB 6.1 MB/s eta 0:00:00\n",
      "Collecting threadpoolctl>=2.0.0\n",
      "  Downloading threadpoolctl-3.1.0-py3-none-any.whl (14 kB)\n",
      "Requirement already satisfied: six>=1.5 in c:\\users\\adelr\\anaconda3\\envs\\qb\\lib\\site-packages (from python-dateutil>=2.8.2->pandas>=1.0->mapclassify) (1.16.0)\n",
      "Installing collected packages: threadpoolctl, joblib, scikit-learn, mapclassify\n",
      "Successfully installed joblib-1.2.0 mapclassify-2.5.0 scikit-learn-1.2.2 threadpoolctl-3.1.0\n"
     ]
    }
   ],
   "source": [
    "!pip install mapclassify"
   ]
  },
  {
   "cell_type": "code",
   "execution_count": 1,
   "metadata": {},
   "outputs": [
    {
     "name": "stdout",
     "output_type": "stream",
     "text": [
      "Collecting torchvision\n",
      "  Downloading torchvision-0.15.2-cp39-cp39-win_amd64.whl (1.2 MB)\n",
      "     ---------------------------------------- 1.2/1.2 MB 12.6 MB/s eta 0:00:00\n",
      "Requirement already satisfied: torch==2.0.1 in c:\\users\\adelr\\anaconda3\\envs\\qb\\lib\\site-packages (from torchvision) (2.0.1)\n",
      "Requirement already satisfied: numpy in c:\\users\\adelr\\anaconda3\\envs\\qb\\lib\\site-packages (from torchvision) (1.24.3)\n",
      "Requirement already satisfied: requests in c:\\users\\adelr\\anaconda3\\envs\\qb\\lib\\site-packages (from torchvision) (2.30.0)\n",
      "Requirement already satisfied: pillow!=8.3.*,>=5.3.0 in c:\\users\\adelr\\anaconda3\\envs\\qb\\lib\\site-packages (from torchvision) (9.5.0)\n",
      "Requirement already satisfied: sympy in c:\\users\\adelr\\anaconda3\\envs\\qb\\lib\\site-packages (from torch==2.0.1->torchvision) (1.12)\n",
      "Requirement already satisfied: filelock in c:\\users\\adelr\\anaconda3\\envs\\qb\\lib\\site-packages (from torch==2.0.1->torchvision) (3.12.0)\n",
      "Requirement already satisfied: typing-extensions in c:\\users\\adelr\\anaconda3\\envs\\qb\\lib\\site-packages (from torch==2.0.1->torchvision) (4.5.0)\n",
      "Requirement already satisfied: networkx in c:\\users\\adelr\\anaconda3\\envs\\qb\\lib\\site-packages (from torch==2.0.1->torchvision) (3.1)\n",
      "Requirement already satisfied: jinja2 in c:\\users\\adelr\\anaconda3\\envs\\qb\\lib\\site-packages (from torch==2.0.1->torchvision) (3.1.2)\n",
      "Requirement already satisfied: charset-normalizer<4,>=2 in c:\\users\\adelr\\anaconda3\\envs\\qb\\lib\\site-packages (from requests->torchvision) (3.1.0)\n",
      "Requirement already satisfied: idna<4,>=2.5 in c:\\users\\adelr\\anaconda3\\envs\\qb\\lib\\site-packages (from requests->torchvision) (3.4)\n",
      "Requirement already satisfied: urllib3<3,>=1.21.1 in c:\\users\\adelr\\anaconda3\\envs\\qb\\lib\\site-packages (from requests->torchvision) (2.0.2)\n",
      "Requirement already satisfied: certifi>=2017.4.17 in c:\\users\\adelr\\anaconda3\\envs\\qb\\lib\\site-packages (from requests->torchvision) (2023.5.7)\n",
      "Requirement already satisfied: MarkupSafe>=2.0 in c:\\users\\adelr\\anaconda3\\envs\\qb\\lib\\site-packages (from jinja2->torch==2.0.1->torchvision) (2.1.2)\n",
      "Requirement already satisfied: mpmath>=0.19 in c:\\users\\adelr\\anaconda3\\envs\\qb\\lib\\site-packages (from sympy->torch==2.0.1->torchvision) (1.3.0)\n",
      "Installing collected packages: torchvision\n",
      "Successfully installed torchvision-0.15.2\n"
     ]
    }
   ],
   "source": [
    "!pip install torchvision"
   ]
  },
  {
   "cell_type": "code",
   "execution_count": 2,
   "metadata": {},
   "outputs": [
    {
     "name": "stdout",
     "output_type": "stream",
     "text": [
      "Collecting opencv-python\n",
      "  Downloading opencv_python-4.7.0.72-cp37-abi3-win_amd64.whl (38.2 MB)\n",
      "     ---------------------------------------- 38.2/38.2 MB 5.5 MB/s eta 0:00:00\n",
      "Requirement already satisfied: numpy>=1.17.3 in c:\\users\\adelr\\anaconda3\\envs\\qb\\lib\\site-packages (from opencv-python) (1.24.3)\n",
      "Installing collected packages: opencv-python\n",
      "Successfully installed opencv-python-4.7.0.72\n"
     ]
    }
   ],
   "source": [
    "!pip install opencv-python"
   ]
  },
  {
   "cell_type": "code",
   "execution_count": 4,
   "metadata": {},
   "outputs": [
    {
     "name": "stdout",
     "output_type": "stream",
     "text": [
      "Collecting albumentations\n",
      "  Using cached albumentations-1.3.0-py3-none-any.whl (123 kB)\n",
      "Requirement already satisfied: PyYAML in c:\\users\\adelr\\anaconda3\\envs\\qb\\lib\\site-packages (from albumentations) (6.0)\n",
      "Collecting opencv-python-headless>=4.1.1\n",
      "  Using cached opencv_python_headless-4.7.0.72-cp37-abi3-win_amd64.whl (38.1 MB)\n",
      "Requirement already satisfied: numpy>=1.11.1 in c:\\users\\adelr\\anaconda3\\envs\\qb\\lib\\site-packages (from albumentations) (1.24.3)\n",
      "Collecting qudida>=0.0.4\n",
      "  Using cached qudida-0.0.4-py3-none-any.whl (3.5 kB)\n",
      "Requirement already satisfied: scipy in c:\\users\\adelr\\anaconda3\\envs\\qb\\lib\\site-packages (from albumentations) (1.9.1)\n",
      "Collecting scikit-image>=0.16.1\n",
      "  Using cached scikit_image-0.20.0-cp39-cp39-win_amd64.whl (23.9 MB)\n",
      "Requirement already satisfied: typing-extensions in c:\\users\\adelr\\anaconda3\\envs\\qb\\lib\\site-packages (from qudida>=0.0.4->albumentations) (4.5.0)\n",
      "Requirement already satisfied: scikit-learn>=0.19.1 in c:\\users\\adelr\\anaconda3\\envs\\qb\\lib\\site-packages (from qudida>=0.0.4->albumentations) (1.2.2)\n",
      "Collecting PyWavelets>=1.1.1\n",
      "  Using cached PyWavelets-1.4.1-cp39-cp39-win_amd64.whl (4.2 MB)\n",
      "Requirement already satisfied: networkx>=2.8 in c:\\users\\adelr\\anaconda3\\envs\\qb\\lib\\site-packages (from scikit-image>=0.16.1->albumentations) (3.1)\n",
      "Collecting lazy_loader>=0.1\n",
      "  Using cached lazy_loader-0.2-py3-none-any.whl (8.6 kB)\n",
      "Requirement already satisfied: tifffile>=2019.7.26 in c:\\users\\adelr\\anaconda3\\envs\\qb\\lib\\site-packages (from scikit-image>=0.16.1->albumentations) (2023.4.12)\n",
      "Collecting imageio>=2.4.1\n",
      "  Using cached imageio-2.28.1-py3-none-any.whl (3.4 MB)\n",
      "Requirement already satisfied: packaging>=20.0 in c:\\users\\adelr\\anaconda3\\envs\\qb\\lib\\site-packages (from scikit-image>=0.16.1->albumentations) (23.1)\n",
      "Requirement already satisfied: pillow>=9.0.1 in c:\\users\\adelr\\anaconda3\\envs\\qb\\lib\\site-packages (from scikit-image>=0.16.1->albumentations) (9.5.0)\n",
      "Requirement already satisfied: threadpoolctl>=2.0.0 in c:\\users\\adelr\\anaconda3\\envs\\qb\\lib\\site-packages (from scikit-learn>=0.19.1->qudida>=0.0.4->albumentations) (3.1.0)\n",
      "Requirement already satisfied: joblib>=1.1.1 in c:\\users\\adelr\\anaconda3\\envs\\qb\\lib\\site-packages (from scikit-learn>=0.19.1->qudida>=0.0.4->albumentations) (1.2.0)\n",
      "Installing collected packages: PyWavelets, opencv-python-headless, lazy_loader, imageio, scikit-image, qudida, albumentations\n",
      "Successfully installed PyWavelets-1.4.1 albumentations-1.3.0 imageio-2.28.1 lazy_loader-0.2 opencv-python-headless-4.7.0.72 qudida-0.0.4 scikit-image-0.20.0\n",
      "Note: you may need to restart the kernel to use updated packages.\n"
     ]
    },
    {
     "name": "stderr",
     "output_type": "stream",
     "text": [
      "  WARNING: The scripts imageio_download_bin.exe and imageio_remove_bin.exe are installed in 'C:\\Users\\adelr\\AppData\\Roaming\\Python\\Python39\\Scripts' which is not on PATH.\n",
      "  Consider adding this directory to PATH or, if you prefer to suppress this warning, use --no-warn-script-location.\n"
     ]
    }
   ],
   "source": [
    "pip install --user albumentations"
   ]
  },
  {
   "cell_type": "code",
   "execution_count": 5,
   "metadata": {},
   "outputs": [
    {
     "name": "stdout",
     "output_type": "stream",
     "text": [
      "Collecting tabulate\n",
      "  Downloading tabulate-0.9.0-py3-none-any.whl (35 kB)\n",
      "Installing collected packages: tabulate\n",
      "Successfully installed tabulate-0.9.0\n",
      "Note: you may need to restart the kernel to use updated packages.\n"
     ]
    }
   ],
   "source": [
    "pip install tabulate"
   ]
  }
 ],
 "metadata": {
  "kernelspec": {
   "display_name": "QB",
   "language": "python",
   "name": "python3"
  },
  "language_info": {
   "codemirror_mode": {
    "name": "ipython",
    "version": 3
   },
   "file_extension": ".py",
   "mimetype": "text/x-python",
   "name": "python",
   "nbconvert_exporter": "python",
   "pygments_lexer": "ipython3",
   "version": "3.9.16"
  },
  "orig_nbformat": 4
 },
 "nbformat": 4,
 "nbformat_minor": 2
}

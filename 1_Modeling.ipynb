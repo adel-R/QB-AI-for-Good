{
 "cells": [
  {
   "cell_type": "markdown",
   "metadata": {},
   "source": [
    "# QuantumBlack Hackathon - AI For Good\n",
    "\n",
    "Binary classifier that predicts presence of methane emissions in an image. Model integrated in a Streamlit Web App for seamless workflows.\n",
    "\n",
    "***\n",
    "by: Clara Besnard, Ian Moon, Marina Pellet, Łukasz Pszenny, Adel Remadi, Lasse Schmidt\n",
    "\n",
    "within: MS Data Sciences & Business Analytics\n",
    "\n",
    "at: CentraleSupélec & ESSEC Business School\n",
    "***"
   ]
  },
  {
   "cell_type": "markdown",
   "metadata": {},
   "source": [
    "This notebook covers building the binary classifier to predict the presence of a methane plume in a given image."
   ]
  },
  {
   "cell_type": "code",
   "execution_count": null,
   "metadata": {},
   "outputs": [],
   "source": [
    "# if necessary, run installs\n",
    "%pip install os pandas geopandas shapely reverse_geocoder pycountry"
   ]
  },
  {
   "cell_type": "markdown",
   "metadata": {},
   "source": [
    "### 1. Import Packages"
   ]
  },
  {
   "cell_type": "code",
   "execution_count": 2,
   "metadata": {},
   "outputs": [
    {
     "data": {
      "text/plain": [
       "<module 'util.visualize_data' from 'C:\\\\Users\\\\lasse\\\\OneDrive\\\\Dokumente\\\\2_Bildung\\\\2_MSc\\\\1_Classes\\\\Y2T3_QuantumBlack AI For Good\\\\QB-AI-for-Good\\\\util\\\\visualize_data.py'>"
      ]
     },
     "execution_count": 2,
     "metadata": {},
     "output_type": "execute_result"
    }
   ],
   "source": [
    "from importlib import reload\n",
    "reload(prepData)\n",
    "reload(loadData)\n",
    "reload(modeling)\n",
    "reload(vizData)"
   ]
  },
  {
   "cell_type": "code",
   "execution_count": 1,
   "metadata": {},
   "outputs": [],
   "source": [
    "# import own scripts\n",
    "import util.preprocess_data as prepData\n",
    "import util.load_data as loadData\n",
    "import util.modeling as modeling\n",
    "import util.visualize_data as vizData"
   ]
  },
  {
   "cell_type": "code",
   "execution_count": 3,
   "metadata": {},
   "outputs": [],
   "source": [
    "# data handling\n",
    "import os\n",
    "import numpy as np\n",
    "from PIL import Image\n",
    "\n",
    "# data viz\n",
    "import matplotlib.pyplot as plt\n",
    "\n",
    "# modeling\n",
    "import torch\n",
    "\n",
    "# hyperparam optimization\n",
    "from ray import tune"
   ]
  },
  {
   "cell_type": "code",
   "execution_count": 4,
   "metadata": {},
   "outputs": [],
   "source": [
    "# set matplotlib and seaborn settings for nicer plots\n",
    "%matplotlib inline\n",
    "%config InlineBackend.figure_format = 'retina'\n",
    "\n",
    "SMALL_SIZE = 6\n",
    "MEDIUM_SIZE = 8\n",
    "BIGGER_SIZE = 10\n",
    "\n",
    "plt.rc('font', size=SMALL_SIZE)          # controls default text sizes\n",
    "plt.rc('axes', titlesize=BIGGER_SIZE)    # fontsize of the axes title\n",
    "plt.rc('axes', labelsize=MEDIUM_SIZE)    # fontsize of the x and y labels\n",
    "plt.rc('xtick', labelsize=SMALL_SIZE)    # fontsize of the tick labels\n",
    "plt.rc('ytick', labelsize=SMALL_SIZE)    # fontsize of the tick labels\n",
    "plt.rc('legend', fontsize=MEDIUM_SIZE)   # legend fontsize\n",
    "plt.rc('figure', titlesize=BIGGER_SIZE)  # fontsize of the figure title"
   ]
  },
  {
   "cell_type": "markdown",
   "metadata": {},
   "source": [
    "### 2. Load Data"
   ]
  },
  {
   "cell_type": "code",
   "execution_count": 5,
   "metadata": {},
   "outputs": [],
   "source": [
    "# get transforms\n",
    "trn_transform, valtst_transform = prepData.get_transform() # to be applied during training\n",
    "trn_transform_viz, valtst_transform_viz = prepData.get_transform(visualize = True) # to visualize what transform does (without normalization)"
   ]
  },
  {
   "cell_type": "code",
   "execution_count": 6,
   "metadata": {},
   "outputs": [
    {
     "name": "stdout",
     "output_type": "stream",
     "text": [
      "Size of trainval data: 430\n",
      "Size of training data: 344\n",
      "Size of validation data: 86\n",
      "Size of test data: 0\n"
     ]
    }
   ],
   "source": [
    "# fetch metadata\n",
    "trnval_metadata = loadData.load_metadata(\"images/metadata.csv\", set = \"train\")\n",
    "tst_metadata    = loadData.load_metadata(\"images/metadata.csv\", set = \"test\")\n",
    "\n",
    "# perform train validation split\n",
    "trn_metadata, val_metadata = loadData.trainval_split(trnval_metadata, val_size = 0.2)\n",
    "\n",
    "# show sizes of datasets\n",
    "print(f\"Size of trainval data: {trnval_metadata.__len__()}\")\n",
    "print(f\"Size of training data: {trn_metadata.__len__()}\")\n",
    "print(f\"Size of validation data: {val_metadata.__len__()}\")\n",
    "print(f\"Size of test data: {tst_metadata.__len__()}\")"
   ]
  },
  {
   "cell_type": "code",
   "execution_count": 7,
   "metadata": {},
   "outputs": [],
   "source": [
    "# get pytorch datasets for visualization\n",
    "trn_dataset_viz_no_transform = loadData.CustomDataset(trn_metadata, apply_CLAHE = False)\n",
    "trn_dataset_viz_transform    = loadData.CustomDataset(trn_metadata, transform = trn_transform_viz, resize = True, apply_CLAHE = True)\n",
    "\n",
    "# get pytorch datasets for modeling\n",
    "trn_dataset = loadData.CustomDataset(trn_metadata, transform = trn_transform, resize = True, apply_CLAHE = True)\n",
    "val_dataset = loadData.CustomDataset(val_metadata, transform = valtst_transform, resize = True, apply_CLAHE = True)\n",
    "tst_dataset = loadData.CustomDataset(tst_metadata, transform = valtst_transform, resize = True, apply_CLAHE = True)"
   ]
  },
  {
   "cell_type": "code",
   "execution_count": 8,
   "metadata": {},
   "outputs": [
    {
     "data": {
      "text/plain": [
       "(60.0644191863925, 58.84460681054689)"
      ]
     },
     "execution_count": 8,
     "metadata": {},
     "output_type": "execute_result"
    }
   ],
   "source": [
    "# get mean and std of dataset to identify values by which we need to normalize\n",
    "trn_dataset.compute_mean_std()"
   ]
  },
  {
   "cell_type": "code",
   "execution_count": 18,
   "metadata": {},
   "outputs": [
    {
     "data": {
      "text/plain": [
       "0      1\n",
       "1      1\n",
       "2      0\n",
       "3      1\n",
       "4      1\n",
       "      ..\n",
       "339    1\n",
       "340    1\n",
       "341    0\n",
       "342    0\n",
       "343    1\n",
       "Name: plume, Length: 344, dtype: int64"
      ]
     },
     "execution_count": 18,
     "metadata": {},
     "output_type": "execute_result"
    }
   ],
   "source": [
    "trn_metadata.plume"
   ]
  },
  {
   "cell_type": "code",
   "execution_count": 21,
   "metadata": {
    "scrolled": false
   },
   "outputs": [
    {
     "name": "stdout",
     "output_type": "stream",
     "text": [
      "images/plume/20230307_methane_mixing_ratio_id_8701.tif\n",
      "images/plume/20230307_methane_mixing_ratio_id_8701.tif\n",
      "4096\n",
      "50176\n"
     ]
    },
    {
     "data": {
      "image/png": "[encoded data removed]",
      "text/plain": [
       "<Figure size 450x600 with 1 Axes>"
      ]
     },
     "metadata": {
      "image/png": {
       "height": 460,
       "width": 442
      }
     },
     "output_type": "display_data"
    },
    {
     "data": {
      "image/png": "[encoded data removed]",
      "text/plain": [
       "<Figure size 450x600 with 1 Axes>"
      ]
     },
     "metadata": {
      "image/png": {
       "height": 460,
       "width": 448
      }
     },
     "output_type": "display_data"
    }
   ],
   "source": [
    "# fetch random image & mask for visualization (training)\n",
    "idx = 339\n",
    "\n",
    "# get non-transformed image\n",
    "_, img, lbl = trn_dataset_viz_no_transform.__getitem__(idx)\n",
    "path = trn_metadata.loc[idx].path\n",
    "print(path)\n",
    "\n",
    "# get transformed image\n",
    "_, img_tf, _ = trn_dataset_viz_transform.__getitem__(idx)\n",
    "path = trn_metadata.loc[idx].path\n",
    "print(path)\n",
    "\n",
    "# visualize original image (without transformations)\n",
    "vizData.visualize(img, lbl = lbl)\n",
    "\n",
    "# visualize transformed image\n",
    "vizData.visualize(img_tf, lbl = lbl, transform = True)"
   ]
  },
  {
   "cell_type": "markdown",
   "metadata": {},
   "source": [
    "Ensure that our stratified k-fold train validation test split function works well."
   ]
  },
  {
   "cell_type": "code",
   "execution_count": 9,
   "metadata": {},
   "outputs": [],
   "source": [
    "folds, test_df = loadData.stratified_split(trnval_metadata, 3, 0.1)"
   ]
  },
  {
   "cell_type": "code",
   "execution_count": 10,
   "metadata": {},
   "outputs": [
    {
     "name": "stdout",
     "output_type": "stream",
     "text": [
      "fold [0/3] -- train 289, val 121\n",
      "fold [1/3] -- train 265, val 124\n",
      "fold [2/3] -- train 287, val 123\n"
     ]
    }
   ],
   "source": [
    "# show number of samples in each fold\n",
    "for k, fold in folds.items():\n",
    "    print(f\"fold [{k}/3] -- train {len(fold['train'])}, val {len(fold['val'])}\")"
   ]
  },
  {
   "cell_type": "code",
   "execution_count": 11,
   "metadata": {},
   "outputs": [],
   "source": [
    "fold0_trn = set(folds[0][\"train\"].id_coord)\n",
    "fold0_val = set(folds[0][\"val\"].id_coord)\n",
    "\n",
    "fold1_trn = set(folds[1][\"train\"].id_coord)\n",
    "fold1_val = set(folds[1][\"val\"].id_coord)\n",
    "\n",
    "fold2_trn = set(folds[2][\"train\"].id_coord)\n",
    "fold2_val = set(folds[2][\"val\"].id_coord)"
   ]
  },
  {
   "cell_type": "code",
   "execution_count": 12,
   "metadata": {
    "scrolled": true
   },
   "outputs": [
    {
     "data": {
      "text/plain": [
       "{'id_0080',\n",
       " 'id_0859',\n",
       " 'id_1503',\n",
       " 'id_1988',\n",
       " 'id_2146',\n",
       " 'id_2274',\n",
       " 'id_2384',\n",
       " 'id_2519',\n",
       " 'id_2542',\n",
       " 'id_2708',\n",
       " 'id_2863',\n",
       " 'id_2884',\n",
       " 'id_3130',\n",
       " 'id_3192',\n",
       " 'id_3733',\n",
       " 'id_3773',\n",
       " 'id_4129',\n",
       " 'id_4212',\n",
       " 'id_4690',\n",
       " 'id_4803',\n",
       " 'id_4928',\n",
       " 'id_5045',\n",
       " 'id_5315',\n",
       " 'id_5491',\n",
       " 'id_5654',\n",
       " 'id_5726',\n",
       " 'id_5988',\n",
       " 'id_6084',\n",
       " 'id_6127',\n",
       " 'id_6245',\n",
       " 'id_6426',\n",
       " 'id_6459',\n",
       " 'id_6609',\n",
       " 'id_6658',\n",
       " 'id_6707',\n",
       " 'id_6762',\n",
       " 'id_6912',\n",
       " 'id_7026',\n",
       " 'id_7566',\n",
       " 'id_7964',\n",
       " 'id_7965',\n",
       " 'id_8446',\n",
       " 'id_8701',\n",
       " 'id_8714',\n",
       " 'id_8773',\n",
       " 'id_9028',\n",
       " 'id_9482',\n",
       " 'id_9715',\n",
       " 'id_9857',\n",
       " 'id_9907',\n",
       " 'id_9912'}"
      ]
     },
     "execution_count": 12,
     "metadata": {},
     "output_type": "execute_result"
    }
   ],
   "source": [
    "fold0_trn"
   ]
  },
  {
   "cell_type": "code",
   "execution_count": 13,
   "metadata": {
    "scrolled": true
   },
   "outputs": [
    {
     "data": {
      "text/plain": [
       "{'id_4948': 1,\n",
       " 'id_8815': 1,\n",
       " 'id_6148': 1,\n",
       " 'id_7690': 1,\n",
       " 'id_3510': 1,\n",
       " 'id_0716': 1,\n",
       " 'id_0471': 1,\n",
       " 'id_1465': 1,\n",
       " 'id_5497': 1,\n",
       " 'id_0972': 1,\n",
       " 'id_4287': 1,\n",
       " 'id_4447': 1,\n",
       " 'id_6464': 1,\n",
       " 'id_5510': 1,\n",
       " 'id_0438': 1,\n",
       " 'id_0041': 1,\n",
       " 'id_7352': 1,\n",
       " 'id_4574': 1,\n",
       " 'id_4127': 1,\n",
       " 'id_3353': 1,\n",
       " 'id_6546': 1,\n",
       " 'id_2774': 1,\n",
       " 'id_2040': 1,\n",
       " 'id_4456': 1,\n",
       " 'id_7467': 1,\n",
       " 'id_6675': 1,\n",
       " 'id_6809': 1,\n",
       " 'id_7820': 1,\n",
       " 'id_6127': 1,\n",
       " 'id_5988': 1,\n",
       " 'id_6609': 1,\n",
       " 'id_9028': 1,\n",
       " 'id_0859': 1,\n",
       " 'id_2146': 1,\n",
       " 'id_6426': 1,\n",
       " 'id_2708': 1,\n",
       " 'id_9907': 1,\n",
       " 'id_8701': 1,\n",
       " 'id_4928': 1,\n",
       " 'id_4690': 1,\n",
       " 'id_5654': 1,\n",
       " 'id_6912': 1,\n",
       " 'id_7965': 1,\n",
       " 'id_2384': 1,\n",
       " 'id_3773': 1,\n",
       " 'id_2863': 1,\n",
       " 'id_9715': 1,\n",
       " 'id_9482': 1,\n",
       " 'id_2519': 1,\n",
       " 'id_4129': 1,\n",
       " 'id_6762': 1,\n",
       " 'id_5315': 1,\n",
       " 'id_7026': 1,\n",
       " 'id_2884': 1,\n",
       " 'id_6245': 1,\n",
       " 'id_2542': 1,\n",
       " 'id_4803': 1,\n",
       " 'id_9912': 1,\n",
       " 'id_5045': 1,\n",
       " 'id_3733': 1,\n",
       " 'id_8446': 1,\n",
       " 'id_4212': 1,\n",
       " 'id_6658': 1,\n",
       " 'id_3130': 1,\n",
       " 'id_1503': 1,\n",
       " 'id_2274': 1,\n",
       " 'id_7566': 1,\n",
       " 'id_6459': 1,\n",
       " 'id_8773': 1,\n",
       " 'id_9857': 1,\n",
       " 'id_0080': 1,\n",
       " 'id_1988': 1,\n",
       " 'id_5491': 1,\n",
       " 'id_5726': 1,\n",
       " 'id_7964': 1,\n",
       " 'id_3192': 1,\n",
       " 'id_6084': 1,\n",
       " 'id_8714': 1}"
      ]
     },
     "execution_count": 13,
     "metadata": {},
     "output_type": "execute_result"
    }
   ],
   "source": [
    "# ensure that each location is only once across all validation folds\n",
    "result = {}\n",
    "\n",
    "for fold in [fold0_val, fold1_val, fold2_val]:\n",
    "    for id_coord in fold:\n",
    "        if id_coord not in result:\n",
    "            result[id_coord] = 1\n",
    "        else:\n",
    "            print(f\"id_coord {id_coord} in multiple folds!\")\n",
    "            result[id_coord] += 1\n",
    "result"
   ]
  },
  {
   "cell_type": "code",
   "execution_count": 14,
   "metadata": {},
   "outputs": [],
   "source": [
    "# ensure that each location is represented in every fold\n",
    "for (trn, val) in [(fold0_trn, fold0_val), (fold1_trn, fold1_val), (fold2_trn, fold2_val)]:\n",
    "    result = {}\n",
    "    \n",
    "    for data in [trn, val]:\n",
    "        for id_coord in data:\n",
    "            if id_coord not in result:\n",
    "                result[id_coord] = 1\n",
    "            else:\n",
    "                print(f\"id_coord {id_coord} in multiple folds!\")\n",
    "                result[id_coord] += 1\n",
    "    \n",
    "    if len(result) != 101 - len(test_df.id_coord.unique()):\n",
    "        print(\"locations are missing\")"
   ]
  },
  {
   "cell_type": "code",
   "execution_count": 15,
   "metadata": {},
   "outputs": [
    {
     "data": {
      "text/plain": [
       "79"
      ]
     },
     "execution_count": 15,
     "metadata": {},
     "output_type": "execute_result"
    }
   ],
   "source": [
    "len(result)"
   ]
  },
  {
   "cell_type": "markdown",
   "metadata": {},
   "source": [
    "### 3. Modeling"
   ]
  },
  {
   "cell_type": "markdown",
   "metadata": {},
   "source": [
    "Learnings:\n",
    "- for Resnet18 and 34, pre-trained models do not seem to work well (maybe because we needed to change first convolution because input images have only one channel and not three -- so we lost all pre-trained weights for first convolution)\n",
    "- Resnet18 same performance level as ResNet34, maybe even slightly better --> no need to use ResNet34 then (overly complex)\n",
    "- batch size of 16 better than 8 and 4 for ResNets --> maybe try out even bigger batches\n",
    "- higher number of epoch better (50 worked well, 20 ok, 10 too low)"
   ]
  },
  {
   "cell_type": "markdown",
   "metadata": {},
   "source": [
    "#### 3.1 Train a Single Model"
   ]
  },
  {
   "cell_type": "markdown",
   "metadata": {},
   "source": [
    "Let us validate that our implementation is correct by running one training loop."
   ]
  },
  {
   "cell_type": "code",
   "execution_count": 26,
   "metadata": {},
   "outputs": [],
   "source": [
    "# tunable hyperparameter search space --> search using tune.choice([]), tune.uniform(lower, upper), tune.grid_search([])\n",
    "config = {\n",
    "    # basic infos\n",
    "    \"dir\": os.path.normpath(os.getcwd()).replace(\"\\\\\", \"/\"),\n",
    "    \"verbose\": True,\n",
    "    \"save\": True,\n",
    "    \n",
    "    # k-fold cross val settings\n",
    "    \"artificial_test_size\": 0.15,\n",
    "    \"k_cv\": 5, # must be bigger than 1\n",
    "    \"prediction_strategy\": \"avg\", # [\"avg\", \"max\"]\n",
    "    \n",
    "    # test set settings\n",
    "    \"official_test\": False,\n",
    "    \n",
    "    # model settings\n",
    "    \"model\": \"mobilenet_v3_large\",\n",
    "    \"max_epochs\": 50,\n",
    "    \"batch_size\": 16,\n",
    "    \n",
    "    # classifier settings\n",
    "    \"classifier\": \"shallow\",\n",
    "    \"width\": 512,\n",
    "    \"depth\": 2,\n",
    "    \n",
    "    # preprocessing\n",
    "    \"resize\": True, # resize images from (64, 64) to (224, 224)\n",
    "    \"apply_CLAHE\": False, # improve image contrast\n",
    "    \n",
    "    # scheduler\n",
    "    \"lr_s\": \"Cosine\", # StepLR decreases learning rate every 10 epochs by factor of 10\n",
    "    \n",
    "    # optimizer\n",
    "    \"optim_name\": \"AdamW\",\n",
    "    \"lr\":   1e-3,\n",
    "    \"wd\":   1e-2,\n",
    "    \"mom\":  0.9, # only for SGD\n",
    "    \n",
    "    # loss function\n",
    "    \"criterion\": \"BCE\"\n",
    "}"
   ]
  },
  {
   "cell_type": "code",
   "execution_count": 27,
   "metadata": {},
   "outputs": [
    {
     "name": "stdout",
     "output_type": "stream",
     "text": [
      "64\n"
     ]
    }
   ],
   "source": [
    "# ensure reproducibility (for meaningful hyperparameter selection that does not depend on random seed behavior)\n",
    "modeling.set_reproducible()\n",
    "\n",
    "# initialise objects for training\n",
    "trnloaders, valloaders, tstloader = modeling.init_data(config)\n",
    "\n",
    "# validate\n",
    "print(len(tstloader.dataset))"
   ]
  },
  {
   "cell_type": "code",
   "execution_count": 28,
   "metadata": {},
   "outputs": [
    {
     "name": "stdout",
     "output_type": "stream",
     "text": [
      "id_0013 3\n",
      "id_0471 2\n",
      "id_0765 3\n",
      "id_0887 2\n",
      "id_0972 3\n",
      "id_1988 2\n",
      "id_2012 2\n",
      "id_2146 2\n",
      "id_2519 1\n",
      "id_3201 1\n",
      "id_3348 2\n",
      "id_3485 1\n",
      "id_3510 3\n",
      "id_3534 3\n",
      "id_3712 2\n",
      "id_4127 2\n",
      "id_4187 1\n",
      "id_4799 2\n",
      "id_5726 2\n",
      "id_5929 3\n",
      "id_6020 1\n",
      "id_6459 2\n",
      "id_6516 1\n",
      "id_6551 2\n",
      "id_6737 1\n",
      "id_6747 2\n",
      "id_7171 1\n",
      "id_7467 1\n",
      "id_8060 3\n",
      "id_8613 2\n",
      "id_8970 2\n",
      "id_9195 1\n",
      "id_9907 3\n"
     ]
    }
   ],
   "source": [
    "# validate test data\n",
    "for id_coord in sorted(tstloader.dataset.metadata.id_coord.unique()):\n",
    "    print(id_coord, len(tstloader.dataset.metadata.loc[tstloader.dataset.metadata.id_coord == id_coord]))"
   ]
  },
  {
   "cell_type": "code",
   "execution_count": 29,
   "metadata": {
    "scrolled": true
   },
   "outputs": [
    {
     "name": "stdout",
     "output_type": "stream",
     "text": [
      "We have started training\n",
      "Starting fold [1/5]\n",
      "Fold [1/5], Epoch [1/50] --> Trn Loss: 0.68, Val Loss: 0.7, Trn AUC: 0.625, Val AUC: 0.57\n",
      "Fold [1/5], Epoch [2/50] --> Trn Loss: 0.66, Val Loss: 0.66, Trn AUC: 0.658, Val AUC: 0.255\n",
      "Fold [1/5], Epoch [3/50] --> Trn Loss: 0.6, Val Loss: 0.66, Trn AUC: 0.711, Val AUC: 0.358\n",
      "Fold [1/5], Epoch [4/50] --> Trn Loss: 0.6, Val Loss: 0.62, Trn AUC: 0.743, Val AUC: 0.395\n",
      "Fold [1/5], Epoch [5/50] --> Trn Loss: 0.61, Val Loss: 0.65, Trn AUC: 0.721, Val AUC: 0.251\n",
      "Fold [1/5], Epoch [6/50] --> Trn Loss: 0.54, Val Loss: 0.63, Trn AUC: 0.786, Val AUC: 0.305\n",
      "Fold [1/5], Epoch [7/50] --> Trn Loss: 0.6, Val Loss: 0.61, Trn AUC: 0.751, Val AUC: 0.264\n",
      "Fold [1/5], Epoch [8/50] --> Trn Loss: 0.5, Val Loss: 0.62, Trn AUC: 0.818, Val AUC: 0.237\n",
      "Fold [1/5], Epoch [9/50] --> Trn Loss: 0.58, Val Loss: 0.6, Trn AUC: 0.768, Val AUC: 0.268\n",
      "Fold [1/5], Epoch [10/50] --> Trn Loss: 0.58, Val Loss: 0.61, Trn AUC: 0.75, Val AUC: 0.329\n",
      "Fold [1/5], Epoch [11/50] --> Trn Loss: 0.55, Val Loss: 0.63, Trn AUC: 0.787, Val AUC: 0.29\n",
      "Fold [1/5], Epoch [12/50] --> Trn Loss: 0.51, Val Loss: 0.62, Trn AUC: 0.822, Val AUC: 0.282\n",
      "Fold [1/5], Epoch [13/50] --> Trn Loss: 0.54, Val Loss: 0.64, Trn AUC: 0.794, Val AUC: 0.309\n",
      "Fold [1/5], Epoch [14/50] --> Trn Loss: 0.52, Val Loss: 0.64, Trn AUC: 0.803, Val AUC: 0.363\n",
      "Fold [1/5], Epoch [15/50] --> Trn Loss: 0.51, Val Loss: 0.62, Trn AUC: 0.817, Val AUC: 0.274\n",
      "Fold [1/5], Epoch [16/50] --> Trn Loss: 0.46, Val Loss: 0.63, Trn AUC: 0.853, Val AUC: 0.33\n",
      "Fold [1/5], Epoch [17/50] --> Trn Loss: 0.46, Val Loss: 0.63, Trn AUC: 0.836, Val AUC: 0.366\n",
      "Fold [1/5], Epoch [18/50] --> Trn Loss: 0.48, Val Loss: 0.63, Trn AUC: 0.845, Val AUC: 0.577\n",
      "Fold [1/5], Epoch [19/50] --> Trn Loss: 0.48, Val Loss: 0.65, Trn AUC: 0.829, Val AUC: 0.627\n",
      "Fold [1/5], Epoch [20/50] --> Trn Loss: 0.55, Val Loss: 0.65, Trn AUC: 0.796, Val AUC: 0.502\n",
      "Fold [1/5], Epoch [21/50] --> Trn Loss: 0.5, Val Loss: 0.62, Trn AUC: 0.825, Val AUC: 0.723\n",
      "Fold [1/5], Epoch [22/50] --> Trn Loss: 0.45, Val Loss: 0.64, Trn AUC: 0.86, Val AUC: 0.758\n",
      "Fold [1/5], Epoch [23/50] --> Trn Loss: 0.43, Val Loss: 0.62, Trn AUC: 0.873, Val AUC: 0.777\n",
      "Fold [1/5], Epoch [24/50] --> Trn Loss: 0.43, Val Loss: 0.63, Trn AUC: 0.877, Val AUC: 0.826\n",
      "Fold [1/5], Epoch [25/50] --> Trn Loss: 0.49, Val Loss: 0.6, Trn AUC: 0.833, Val AUC: 0.838\n",
      "Fold [1/5], Epoch [26/50] --> Trn Loss: 0.45, Val Loss: 0.59, Trn AUC: 0.853, Val AUC: 0.882\n",
      "Fold [1/5], Epoch [27/50] --> Trn Loss: 0.42, Val Loss: 0.57, Trn AUC: 0.862, Val AUC: 0.884\n",
      "Fold [1/5], Epoch [28/50] --> Trn Loss: 0.44, Val Loss: 0.54, Trn AUC: 0.861, Val AUC: 0.909\n",
      "Fold [1/5], Epoch [29/50] --> Trn Loss: 0.42, Val Loss: 0.53, Trn AUC: 0.873, Val AUC: 0.908\n",
      "Fold [1/5], Epoch [30/50] --> Trn Loss: 0.44, Val Loss: 0.51, Trn AUC: 0.865, Val AUC: 0.904\n",
      "Fold [1/5], Epoch [31/50] --> Trn Loss: 0.48, Val Loss: 0.45, Trn AUC: 0.834, Val AUC: 0.941\n",
      "Fold [1/5], Epoch [32/50] --> Trn Loss: 0.44, Val Loss: 0.34, Trn AUC: 0.856, Val AUC: 0.948\n",
      "Fold [1/5], Epoch [33/50] --> Trn Loss: 0.42, Val Loss: 0.37, Trn AUC: 0.882, Val AUC: 0.942\n",
      "Fold [1/5], Epoch [34/50] --> Trn Loss: 0.41, Val Loss: 0.4, Trn AUC: 0.896, Val AUC: 0.92\n",
      "Fold [1/5], Epoch [35/50] --> Trn Loss: 0.39, Val Loss: 0.41, Trn AUC: 0.882, Val AUC: 0.9\n",
      "Fold [1/5], Epoch [36/50] --> Trn Loss: 0.41, Val Loss: 0.48, Trn AUC: 0.873, Val AUC: 0.882\n",
      "Fold [1/5], Epoch [37/50] --> Trn Loss: 0.4, Val Loss: 0.52, Trn AUC: 0.877, Val AUC: 0.884\n",
      "Fold [1/5], Epoch [38/50] --> Trn Loss: 0.36, Val Loss: 0.49, Trn AUC: 0.91, Val AUC: 0.884\n",
      "Fold [1/5], Epoch [39/50] --> Trn Loss: 0.38, Val Loss: 0.43, Trn AUC: 0.899, Val AUC: 0.899\n",
      "Fold [1/5], Epoch [40/50] --> Trn Loss: 0.32, Val Loss: 0.34, Trn AUC: 0.926, Val AUC: 0.902\n",
      "Fold [1/5], Epoch [41/50] --> Trn Loss: 0.4, Val Loss: 0.31, Trn AUC: 0.888, Val AUC: 0.922\n",
      "Fold [1/5], Epoch [42/50] --> Trn Loss: 0.38, Val Loss: 0.33, Trn AUC: 0.896, Val AUC: 0.921\n",
      "Fold [1/5], Epoch [43/50] --> Trn Loss: 0.39, Val Loss: 0.31, Trn AUC: 0.882, Val AUC: 0.925\n",
      "Fold [1/5], Epoch [44/50] --> Trn Loss: 0.38, Val Loss: 0.28, Trn AUC: 0.895, Val AUC: 0.929\n",
      "Fold [1/5], Epoch [45/50] --> Trn Loss: 0.36, Val Loss: 0.28, Trn AUC: 0.91, Val AUC: 0.931\n",
      "Fold [1/5], Epoch [46/50] --> Trn Loss: 0.37, Val Loss: 0.28, Trn AUC: 0.902, Val AUC: 0.927\n",
      "Fold [1/5], Epoch [47/50] --> Trn Loss: 0.41, Val Loss: 0.28, Trn AUC: 0.877, Val AUC: 0.929\n",
      "Fold [1/5], Epoch [48/50] --> Trn Loss: 0.41, Val Loss: 0.3, Trn AUC: 0.893, Val AUC: 0.923\n",
      "Fold [1/5], Epoch [49/50] --> Trn Loss: 0.37, Val Loss: 0.29, Trn AUC: 0.896, Val AUC: 0.927\n",
      "Fold [1/5], Epoch [50/50] --> Trn Loss: 0.34, Val Loss: 0.29, Trn AUC: 0.923, Val AUC: 0.925\n",
      "Starting fold [2/5]\n",
      "Fold [2/5], Epoch [1/50] --> Trn Loss: 0.68, Val Loss: 0.7, Trn AUC: 0.663, Val AUC: 0.464\n",
      "Fold [2/5], Epoch [2/50] --> Trn Loss: 0.59, Val Loss: 0.7, Trn AUC: 0.727, Val AUC: 0.551\n",
      "Fold [2/5], Epoch [3/50] --> Trn Loss: 0.58, Val Loss: 0.73, Trn AUC: 0.737, Val AUC: 0.557\n",
      "Fold [2/5], Epoch [4/50] --> Trn Loss: 0.59, Val Loss: 0.76, Trn AUC: 0.74, Val AUC: 0.776\n",
      "Fold [2/5], Epoch [5/50] --> Trn Loss: 0.64, Val Loss: 0.77, Trn AUC: 0.655, Val AUC: 0.839\n",
      "Fold [2/5], Epoch [6/50] --> Trn Loss: 0.61, Val Loss: 0.73, Trn AUC: 0.707, Val AUC: 0.772\n",
      "Fold [2/5], Epoch [7/50] --> Trn Loss: 0.59, Val Loss: 0.82, Trn AUC: 0.737, Val AUC: 0.748\n",
      "Fold [2/5], Epoch [8/50] --> Trn Loss: 0.56, Val Loss: 0.77, Trn AUC: 0.772, Val AUC: 0.821\n",
      "Fold [2/5], Epoch [9/50] --> Trn Loss: 0.53, Val Loss: 0.78, Trn AUC: 0.792, Val AUC: 0.802\n",
      "Fold [2/5], Epoch [10/50] --> Trn Loss: 0.57, Val Loss: 0.79, Trn AUC: 0.734, Val AUC: 0.805\n",
      "Fold [2/5], Epoch [11/50] --> Trn Loss: 0.51, Val Loss: 0.73, Trn AUC: 0.803, Val AUC: 0.836\n",
      "Fold [2/5], Epoch [12/50] --> Trn Loss: 0.51, Val Loss: 0.79, Trn AUC: 0.793, Val AUC: 0.82\n",
      "Fold [2/5], Epoch [13/50] --> Trn Loss: 0.58, Val Loss: 0.72, Trn AUC: 0.727, Val AUC: 0.496\n",
      "Fold [2/5], Epoch [14/50] --> Trn Loss: 0.54, Val Loss: 0.79, Trn AUC: 0.779, Val AUC: 0.835\n",
      "Fold [2/5], Epoch [15/50] --> Trn Loss: 0.52, Val Loss: 0.79, Trn AUC: 0.812, Val AUC: 0.877\n",
      "Fold [2/5], Epoch [16/50] --> Trn Loss: 0.56, Val Loss: 0.75, Trn AUC: 0.767, Val AUC: 0.835\n",
      "Fold [2/5], Epoch [17/50] --> Trn Loss: 0.48, Val Loss: 0.93, Trn AUC: 0.814, Val AUC: 0.832\n",
      "Fold [2/5], Epoch [18/50] --> Trn Loss: 0.53, Val Loss: 0.75, Trn AUC: 0.782, Val AUC: 0.73\n",
      "Fold [2/5], Epoch [19/50] --> Trn Loss: 0.58, Val Loss: 0.74, Trn AUC: 0.758, Val AUC: 0.637\n",
      "Fold [2/5], Epoch [20/50] --> Trn Loss: 0.51, Val Loss: 0.72, Trn AUC: 0.818, Val AUC: 0.838\n",
      "Fold [2/5], Epoch [21/50] --> Trn Loss: 0.55, Val Loss: 0.73, Trn AUC: 0.76, Val AUC: 0.641\n",
      "Fold [2/5], Epoch [22/50] --> Trn Loss: 0.5, Val Loss: 0.71, Trn AUC: 0.82, Val AUC: 0.755\n",
      "Fold [2/5], Epoch [23/50] --> Trn Loss: 0.5, Val Loss: 0.75, Trn AUC: 0.814, Val AUC: 0.781\n",
      "Fold [2/5], Epoch [24/50] --> Trn Loss: 0.51, Val Loss: 0.71, Trn AUC: 0.804, Val AUC: 0.814\n",
      "Fold [2/5], Epoch [25/50] --> Trn Loss: 0.5, Val Loss: 0.67, Trn AUC: 0.81, Val AUC: 0.869\n",
      "Fold [2/5], Epoch [26/50] --> Trn Loss: 0.49, Val Loss: 0.67, Trn AUC: 0.819, Val AUC: 0.864\n",
      "Fold [2/5], Epoch [27/50] --> Trn Loss: 0.48, Val Loss: 0.66, Trn AUC: 0.82, Val AUC: 0.841\n",
      "Fold [2/5], Epoch [28/50] --> Trn Loss: 0.45, Val Loss: 0.65, Trn AUC: 0.857, Val AUC: 0.815\n",
      "Fold [2/5], Epoch [29/50] --> Trn Loss: 0.45, Val Loss: 0.59, Trn AUC: 0.855, Val AUC: 0.818\n",
      "Fold [2/5], Epoch [30/50] --> Trn Loss: 0.45, Val Loss: 0.49, Trn AUC: 0.85, Val AUC: 0.843\n",
      "Fold [2/5], Epoch [31/50] --> Trn Loss: 0.43, Val Loss: 0.47, Trn AUC: 0.858, Val AUC: 0.847\n",
      "Fold [2/5], Epoch [32/50] --> Trn Loss: 0.49, Val Loss: 0.56, Trn AUC: 0.828, Val AUC: 0.825\n",
      "Fold [2/5], Epoch [33/50] --> Trn Loss: 0.43, Val Loss: 0.55, Trn AUC: 0.866, Val AUC: 0.816\n",
      "Fold [2/5], Epoch [34/50] --> Trn Loss: 0.44, Val Loss: 0.47, Trn AUC: 0.862, Val AUC: 0.856\n",
      "Fold [2/5], Epoch [35/50] --> Trn Loss: 0.48, Val Loss: 0.53, Trn AUC: 0.823, Val AUC: 0.855\n",
      "Fold [2/5], Epoch [36/50] --> Trn Loss: 0.43, Val Loss: 0.42, Trn AUC: 0.865, Val AUC: 0.885\n",
      "Fold [2/5], Epoch [37/50] --> Trn Loss: 0.44, Val Loss: 0.42, Trn AUC: 0.86, Val AUC: 0.887\n",
      "Fold [2/5], Epoch [38/50] --> Trn Loss: 0.39, Val Loss: 0.42, Trn AUC: 0.898, Val AUC: 0.886\n"
     ]
    },
    {
     "name": "stdout",
     "output_type": "stream",
     "text": [
      "Fold [2/5], Epoch [39/50] --> Trn Loss: 0.39, Val Loss: 0.41, Trn AUC: 0.89, Val AUC: 0.896\n",
      "Fold [2/5], Epoch [40/50] --> Trn Loss: 0.38, Val Loss: 0.42, Trn AUC: 0.896, Val AUC: 0.886\n",
      "Fold [2/5], Epoch [41/50] --> Trn Loss: 0.39, Val Loss: 0.41, Trn AUC: 0.893, Val AUC: 0.89\n",
      "Fold [2/5], Epoch [42/50] --> Trn Loss: 0.43, Val Loss: 0.41, Trn AUC: 0.876, Val AUC: 0.886\n",
      "Fold [2/5], Epoch [43/50] --> Trn Loss: 0.36, Val Loss: 0.43, Trn AUC: 0.905, Val AUC: 0.882\n",
      "Fold [2/5], Epoch [44/50] --> Trn Loss: 0.41, Val Loss: 0.44, Trn AUC: 0.886, Val AUC: 0.873\n",
      "Fold [2/5], Epoch [45/50] --> Trn Loss: 0.44, Val Loss: 0.46, Trn AUC: 0.872, Val AUC: 0.864\n",
      "Fold [2/5], Epoch [46/50] --> Trn Loss: 0.42, Val Loss: 0.47, Trn AUC: 0.868, Val AUC: 0.864\n",
      "Fold [2/5], Epoch [47/50] --> Trn Loss: 0.38, Val Loss: 0.47, Trn AUC: 0.9, Val AUC: 0.862\n",
      "Fold [2/5], Epoch [48/50] --> Trn Loss: 0.42, Val Loss: 0.48, Trn AUC: 0.871, Val AUC: 0.86\n",
      "Fold [2/5], Epoch [49/50] --> Trn Loss: 0.42, Val Loss: 0.48, Trn AUC: 0.876, Val AUC: 0.859\n",
      "Fold [2/5], Epoch [50/50] --> Trn Loss: 0.35, Val Loss: 0.48, Trn AUC: 0.913, Val AUC: 0.865\n",
      "Starting fold [3/5]\n",
      "Fold [3/5], Epoch [1/50] --> Trn Loss: 0.74, Val Loss: 0.69, Trn AUC: 0.636, Val AUC: 0.462\n",
      "Fold [3/5], Epoch [2/50] --> Trn Loss: 0.65, Val Loss: 0.69, Trn AUC: 0.687, Val AUC: 0.373\n",
      "Fold [3/5], Epoch [3/50] --> Trn Loss: 0.57, Val Loss: 0.7, Trn AUC: 0.771, Val AUC: 0.498\n",
      "Fold [3/5], Epoch [4/50] --> Trn Loss: 0.65, Val Loss: 0.69, Trn AUC: 0.682, Val AUC: 0.531\n",
      "Fold [3/5], Epoch [5/50] --> Trn Loss: 0.61, Val Loss: 0.69, Trn AUC: 0.737, Val AUC: 0.649\n",
      "Fold [3/5], Epoch [6/50] --> Trn Loss: 0.58, Val Loss: 0.69, Trn AUC: 0.756, Val AUC: 0.634\n",
      "Fold [3/5], Epoch [7/50] --> Trn Loss: 0.6, Val Loss: 0.69, Trn AUC: 0.744, Val AUC: 0.672\n",
      "Fold [3/5], Epoch [8/50] --> Trn Loss: 0.57, Val Loss: 0.69, Trn AUC: 0.767, Val AUC: 0.691\n",
      "Fold [3/5], Epoch [9/50] --> Trn Loss: 0.56, Val Loss: 0.69, Trn AUC: 0.784, Val AUC: 0.371\n",
      "Fold [3/5], Epoch [10/50] --> Trn Loss: 0.6, Val Loss: 0.7, Trn AUC: 0.747, Val AUC: 0.673\n",
      "Fold [3/5], Epoch [11/50] --> Trn Loss: 0.55, Val Loss: 0.69, Trn AUC: 0.803, Val AUC: 0.813\n",
      "Fold [3/5], Epoch [12/50] --> Trn Loss: 0.52, Val Loss: 0.69, Trn AUC: 0.811, Val AUC: 0.57\n",
      "Fold [3/5], Epoch [13/50] --> Trn Loss: 0.54, Val Loss: 0.69, Trn AUC: 0.795, Val AUC: 0.755\n",
      "Fold [3/5], Epoch [14/50] --> Trn Loss: 0.57, Val Loss: 0.69, Trn AUC: 0.775, Val AUC: 0.793\n",
      "Fold [3/5], Epoch [15/50] --> Trn Loss: 0.53, Val Loss: 0.69, Trn AUC: 0.814, Val AUC: 0.801\n",
      "Fold [3/5], Epoch [16/50] --> Trn Loss: 0.51, Val Loss: 0.7, Trn AUC: 0.828, Val AUC: 0.778\n",
      "Fold [3/5], Epoch [17/50] --> Trn Loss: 0.58, Val Loss: 0.7, Trn AUC: 0.766, Val AUC: 0.736\n",
      "Fold [3/5], Epoch [18/50] --> Trn Loss: 0.53, Val Loss: 0.69, Trn AUC: 0.821, Val AUC: 0.71\n",
      "Fold [3/5], Epoch [19/50] --> Trn Loss: 0.5, Val Loss: 0.69, Trn AUC: 0.83, Val AUC: 0.791\n",
      "Fold [3/5], Epoch [20/50] --> Trn Loss: 0.51, Val Loss: 0.69, Trn AUC: 0.827, Val AUC: 0.658\n",
      "Fold [3/5], Epoch [21/50] --> Trn Loss: 0.49, Val Loss: 0.7, Trn AUC: 0.819, Val AUC: 0.791\n",
      "Fold [3/5], Epoch [22/50] --> Trn Loss: 0.48, Val Loss: 0.69, Trn AUC: 0.827, Val AUC: 0.759\n",
      "Fold [3/5], Epoch [23/50] --> Trn Loss: 0.54, Val Loss: 0.71, Trn AUC: 0.79, Val AUC: 0.793\n",
      "Fold [3/5], Epoch [24/50] --> Trn Loss: 0.53, Val Loss: 0.7, Trn AUC: 0.8, Val AUC: 0.81\n",
      "Fold [3/5], Epoch [25/50] --> Trn Loss: 0.54, Val Loss: 0.7, Trn AUC: 0.78, Val AUC: 0.829\n",
      "Fold [3/5], Epoch [26/50] --> Trn Loss: 0.54, Val Loss: 0.7, Trn AUC: 0.785, Val AUC: 0.844\n",
      "Fold [3/5], Epoch [27/50] --> Trn Loss: 0.47, Val Loss: 0.75, Trn AUC: 0.84, Val AUC: 0.851\n",
      "Fold [3/5], Epoch [28/50] --> Trn Loss: 0.45, Val Loss: 0.74, Trn AUC: 0.859, Val AUC: 0.841\n",
      "Fold [3/5], Epoch [29/50] --> Trn Loss: 0.41, Val Loss: 1.01, Trn AUC: 0.879, Val AUC: 0.898\n",
      "Fold [3/5], Epoch [30/50] --> Trn Loss: 0.47, Val Loss: 0.86, Trn AUC: 0.863, Val AUC: 0.916\n",
      "Fold [3/5], Epoch [31/50] --> Trn Loss: 0.45, Val Loss: 0.9, Trn AUC: 0.857, Val AUC: 0.864\n",
      "Fold [3/5], Epoch [32/50] --> Trn Loss: 0.4, Val Loss: 1.05, Trn AUC: 0.887, Val AUC: 0.901\n",
      "Fold [3/5], Epoch [33/50] --> Trn Loss: 0.45, Val Loss: 0.71, Trn AUC: 0.855, Val AUC: 0.925\n",
      "Fold [3/5], Epoch [34/50] --> Trn Loss: 0.49, Val Loss: 0.56, Trn AUC: 0.829, Val AUC: 0.921\n",
      "Fold [3/5], Epoch [35/50] --> Trn Loss: 0.42, Val Loss: 0.53, Trn AUC: 0.891, Val AUC: 0.936\n",
      "Fold [3/5], Epoch [36/50] --> Trn Loss: 0.4, Val Loss: 0.51, Trn AUC: 0.888, Val AUC: 0.942\n",
      "Fold [3/5], Epoch [37/50] --> Trn Loss: 0.47, Val Loss: 0.46, Trn AUC: 0.837, Val AUC: 0.953\n",
      "Fold [3/5], Epoch [38/50] --> Trn Loss: 0.44, Val Loss: 0.52, Trn AUC: 0.861, Val AUC: 0.945\n",
      "Fold [3/5], Epoch [39/50] --> Trn Loss: 0.43, Val Loss: 0.45, Trn AUC: 0.87, Val AUC: 0.953\n",
      "Fold [3/5], Epoch [40/50] --> Trn Loss: 0.42, Val Loss: 0.43, Trn AUC: 0.89, Val AUC: 0.962\n",
      "Fold [3/5], Epoch [41/50] --> Trn Loss: 0.41, Val Loss: 0.41, Trn AUC: 0.874, Val AUC: 0.959\n",
      "Fold [3/5], Epoch [42/50] --> Trn Loss: 0.4, Val Loss: 0.38, Trn AUC: 0.889, Val AUC: 0.954\n",
      "Fold [3/5], Epoch [43/50] --> Trn Loss: 0.41, Val Loss: 0.36, Trn AUC: 0.873, Val AUC: 0.955\n",
      "Fold [3/5], Epoch [44/50] --> Trn Loss: 0.36, Val Loss: 0.33, Trn AUC: 0.902, Val AUC: 0.954\n",
      "Fold [3/5], Epoch [45/50] --> Trn Loss: 0.38, Val Loss: 0.31, Trn AUC: 0.883, Val AUC: 0.956\n",
      "Fold [3/5], Epoch [46/50] --> Trn Loss: 0.43, Val Loss: 0.31, Trn AUC: 0.872, Val AUC: 0.957\n",
      "Fold [3/5], Epoch [47/50] --> Trn Loss: 0.41, Val Loss: 0.3, Trn AUC: 0.891, Val AUC: 0.958\n",
      "Fold [3/5], Epoch [48/50] --> Trn Loss: 0.39, Val Loss: 0.3, Trn AUC: 0.9, Val AUC: 0.958\n",
      "Fold [3/5], Epoch [49/50] --> Trn Loss: 0.4, Val Loss: 0.3, Trn AUC: 0.904, Val AUC: 0.959\n",
      "Fold [3/5], Epoch [50/50] --> Trn Loss: 0.37, Val Loss: 0.29, Trn AUC: 0.9, Val AUC: 0.961\n",
      "Starting fold [4/5]\n",
      "Fold [4/5], Epoch [1/50] --> Trn Loss: 0.74, Val Loss: 0.7, Trn AUC: 0.571, Val AUC: 0.592\n",
      "Fold [4/5], Epoch [2/50] --> Trn Loss: 0.57, Val Loss: 0.76, Trn AUC: 0.732, Val AUC: 0.539\n",
      "Fold [4/5], Epoch [3/50] --> Trn Loss: 0.57, Val Loss: 0.81, Trn AUC: 0.743, Val AUC: 0.539\n",
      "Fold [4/5], Epoch [4/50] --> Trn Loss: 0.57, Val Loss: 0.74, Trn AUC: 0.729, Val AUC: 0.303\n",
      "Fold [4/5], Epoch [5/50] --> Trn Loss: 0.55, Val Loss: 0.83, Trn AUC: 0.768, Val AUC: 0.613\n",
      "Fold [4/5], Epoch [6/50] --> Trn Loss: 0.57, Val Loss: 0.81, Trn AUC: 0.755, Val AUC: 0.714\n",
      "Fold [4/5], Epoch [7/50] --> Trn Loss: 0.53, Val Loss: 0.81, Trn AUC: 0.789, Val AUC: 0.747\n",
      "Fold [4/5], Epoch [8/50] --> Trn Loss: 0.49, Val Loss: 0.93, Trn AUC: 0.827, Val AUC: 0.749\n",
      "Fold [4/5], Epoch [9/50] --> Trn Loss: 0.53, Val Loss: 0.85, Trn AUC: 0.765, Val AUC: 0.757\n",
      "Fold [4/5], Epoch [10/50] --> Trn Loss: 0.49, Val Loss: 1.01, Trn AUC: 0.805, Val AUC: 0.764\n",
      "Fold [4/5], Epoch [11/50] --> Trn Loss: 0.53, Val Loss: 0.78, Trn AUC: 0.77, Val AUC: 0.775\n",
      "Fold [4/5], Epoch [12/50] --> Trn Loss: 0.53, Val Loss: 0.93, Trn AUC: 0.781, Val AUC: 0.755\n",
      "Fold [4/5], Epoch [13/50] --> Trn Loss: 0.51, Val Loss: 0.91, Trn AUC: 0.811, Val AUC: 0.767\n",
      "Fold [4/5], Epoch [14/50] --> Trn Loss: 0.46, Val Loss: 0.98, Trn AUC: 0.838, Val AUC: 0.775\n",
      "Fold [4/5], Epoch [15/50] --> Trn Loss: 0.49, Val Loss: 0.85, Trn AUC: 0.799, Val AUC: 0.775\n",
      "Fold [4/5], Epoch [16/50] --> Trn Loss: 0.5, Val Loss: 0.96, Trn AUC: 0.817, Val AUC: 0.738\n",
      "Fold [4/5], Epoch [17/50] --> Trn Loss: 0.5, Val Loss: 0.92, Trn AUC: 0.814, Val AUC: 0.719\n",
      "Fold [4/5], Epoch [18/50] --> Trn Loss: 0.46, Val Loss: 0.94, Trn AUC: 0.838, Val AUC: 0.712\n",
      "Fold [4/5], Epoch [19/50] --> Trn Loss: 0.45, Val Loss: 0.84, Trn AUC: 0.848, Val AUC: 0.733\n",
      "Fold [4/5], Epoch [20/50] --> Trn Loss: 0.49, Val Loss: 0.84, Trn AUC: 0.819, Val AUC: 0.72\n",
      "Fold [4/5], Epoch [21/50] --> Trn Loss: 0.47, Val Loss: 0.86, Trn AUC: 0.831, Val AUC: 0.818\n",
      "Fold [4/5], Epoch [22/50] --> Trn Loss: 0.44, Val Loss: 0.89, Trn AUC: 0.853, Val AUC: 0.803\n",
      "Fold [4/5], Epoch [23/50] --> Trn Loss: 0.44, Val Loss: 0.83, Trn AUC: 0.86, Val AUC: 0.813\n",
      "Fold [4/5], Epoch [24/50] --> Trn Loss: 0.45, Val Loss: 0.85, Trn AUC: 0.847, Val AUC: 0.839\n",
      "Fold [4/5], Epoch [25/50] --> Trn Loss: 0.44, Val Loss: 0.72, Trn AUC: 0.86, Val AUC: 0.842\n",
      "Fold [4/5], Epoch [26/50] --> Trn Loss: 0.4, Val Loss: 0.68, Trn AUC: 0.874, Val AUC: 0.849\n",
      "Fold [4/5], Epoch [27/50] --> Trn Loss: 0.41, Val Loss: 0.7, Trn AUC: 0.858, Val AUC: 0.838\n"
     ]
    },
    {
     "name": "stdout",
     "output_type": "stream",
     "text": [
      "Fold [4/5], Epoch [28/50] --> Trn Loss: 0.4, Val Loss: 0.67, Trn AUC: 0.881, Val AUC: 0.836\n",
      "Fold [4/5], Epoch [29/50] --> Trn Loss: 0.43, Val Loss: 0.64, Trn AUC: 0.861, Val AUC: 0.859\n",
      "Fold [4/5], Epoch [30/50] --> Trn Loss: 0.42, Val Loss: 0.64, Trn AUC: 0.875, Val AUC: 0.841\n",
      "Fold [4/5], Epoch [31/50] --> Trn Loss: 0.38, Val Loss: 0.74, Trn AUC: 0.893, Val AUC: 0.862\n",
      "Fold [4/5], Epoch [32/50] --> Trn Loss: 0.43, Val Loss: 0.87, Trn AUC: 0.868, Val AUC: 0.834\n",
      "Fold [4/5], Epoch [33/50] --> Trn Loss: 0.42, Val Loss: 0.72, Trn AUC: 0.857, Val AUC: 0.839\n",
      "Fold [4/5], Epoch [34/50] --> Trn Loss: 0.42, Val Loss: 0.59, Trn AUC: 0.866, Val AUC: 0.856\n",
      "Fold [4/5], Epoch [35/50] --> Trn Loss: 0.36, Val Loss: 0.54, Trn AUC: 0.888, Val AUC: 0.857\n",
      "Fold [4/5], Epoch [36/50] --> Trn Loss: 0.39, Val Loss: 0.6, Trn AUC: 0.88, Val AUC: 0.862\n",
      "Fold [4/5], Epoch [37/50] --> Trn Loss: 0.39, Val Loss: 0.63, Trn AUC: 0.877, Val AUC: 0.855\n",
      "Fold [4/5], Epoch [38/50] --> Trn Loss: 0.37, Val Loss: 0.69, Trn AUC: 0.899, Val AUC: 0.852\n",
      "Fold [4/5], Epoch [39/50] --> Trn Loss: 0.35, Val Loss: 0.58, Trn AUC: 0.909, Val AUC: 0.865\n",
      "Fold [4/5], Epoch [40/50] --> Trn Loss: 0.39, Val Loss: 0.55, Trn AUC: 0.882, Val AUC: 0.869\n",
      "Fold [4/5], Epoch [41/50] --> Trn Loss: 0.33, Val Loss: 0.54, Trn AUC: 0.918, Val AUC: 0.874\n",
      "Fold [4/5], Epoch [42/50] --> Trn Loss: 0.35, Val Loss: 0.49, Trn AUC: 0.901, Val AUC: 0.872\n",
      "Fold [4/5], Epoch [43/50] --> Trn Loss: 0.36, Val Loss: 0.45, Trn AUC: 0.89, Val AUC: 0.89\n",
      "Fold [4/5], Epoch [44/50] --> Trn Loss: 0.33, Val Loss: 0.47, Trn AUC: 0.912, Val AUC: 0.887\n",
      "Fold [4/5], Epoch [45/50] --> Trn Loss: 0.32, Val Loss: 0.51, Trn AUC: 0.924, Val AUC: 0.878\n",
      "Fold [4/5], Epoch [46/50] --> Trn Loss: 0.33, Val Loss: 0.53, Trn AUC: 0.914, Val AUC: 0.877\n",
      "Fold [4/5], Epoch [47/50] --> Trn Loss: 0.33, Val Loss: 0.54, Trn AUC: 0.916, Val AUC: 0.879\n",
      "Fold [4/5], Epoch [48/50] --> Trn Loss: 0.39, Val Loss: 0.55, Trn AUC: 0.876, Val AUC: 0.876\n",
      "Fold [4/5], Epoch [49/50] --> Trn Loss: 0.31, Val Loss: 0.56, Trn AUC: 0.918, Val AUC: 0.877\n",
      "Fold [4/5], Epoch [50/50] --> Trn Loss: 0.33, Val Loss: 0.57, Trn AUC: 0.91, Val AUC: 0.878\n",
      "Starting fold [5/5]\n",
      "Fold [5/5], Epoch [1/50] --> Trn Loss: 0.69, Val Loss: 0.7, Trn AUC: 0.625, Val AUC: 0.5\n",
      "Fold [5/5], Epoch [2/50] --> Trn Loss: 0.65, Val Loss: 0.71, Trn AUC: 0.643, Val AUC: 0.462\n",
      "Fold [5/5], Epoch [3/50] --> Trn Loss: 0.63, Val Loss: 0.7, Trn AUC: 0.695, Val AUC: 0.388\n",
      "Fold [5/5], Epoch [4/50] --> Trn Loss: 0.62, Val Loss: 0.72, Trn AUC: 0.7, Val AUC: 0.508\n",
      "Fold [5/5], Epoch [5/50] --> Trn Loss: 0.6, Val Loss: 0.72, Trn AUC: 0.728, Val AUC: 0.739\n",
      "Fold [5/5], Epoch [6/50] --> Trn Loss: 0.58, Val Loss: 0.72, Trn AUC: 0.743, Val AUC: 0.703\n",
      "Fold [5/5], Epoch [7/50] --> Trn Loss: 0.62, Val Loss: 0.74, Trn AUC: 0.681, Val AUC: 0.822\n",
      "Fold [5/5], Epoch [8/50] --> Trn Loss: 0.54, Val Loss: 0.78, Trn AUC: 0.789, Val AUC: 0.814\n",
      "Fold [5/5], Epoch [9/50] --> Trn Loss: 0.57, Val Loss: 0.73, Trn AUC: 0.756, Val AUC: 0.8\n",
      "Fold [5/5], Epoch [10/50] --> Trn Loss: 0.54, Val Loss: 0.75, Trn AUC: 0.768, Val AUC: 0.609\n",
      "Fold [5/5], Epoch [11/50] --> Trn Loss: 0.54, Val Loss: 0.79, Trn AUC: 0.768, Val AUC: 0.841\n",
      "Fold [5/5], Epoch [12/50] --> Trn Loss: 0.54, Val Loss: 0.72, Trn AUC: 0.778, Val AUC: 0.801\n",
      "Fold [5/5], Epoch [13/50] --> Trn Loss: 0.54, Val Loss: 0.74, Trn AUC: 0.804, Val AUC: 0.809\n",
      "Fold [5/5], Epoch [14/50] --> Trn Loss: 0.54, Val Loss: 0.7, Trn AUC: 0.773, Val AUC: 0.813\n",
      "Fold [5/5], Epoch [15/50] --> Trn Loss: 0.53, Val Loss: 0.72, Trn AUC: 0.779, Val AUC: 0.803\n",
      "Fold [5/5], Epoch [16/50] --> Trn Loss: 0.46, Val Loss: 0.7, Trn AUC: 0.836, Val AUC: 0.799\n",
      "Fold [5/5], Epoch [17/50] --> Trn Loss: 0.52, Val Loss: 0.7, Trn AUC: 0.802, Val AUC: 0.824\n",
      "Fold [5/5], Epoch [18/50] --> Trn Loss: 0.5, Val Loss: 0.7, Trn AUC: 0.786, Val AUC: 0.817\n",
      "Fold [5/5], Epoch [19/50] --> Trn Loss: 0.5, Val Loss: 0.7, Trn AUC: 0.825, Val AUC: 0.649\n",
      "Fold [5/5], Epoch [20/50] --> Trn Loss: 0.51, Val Loss: 0.7, Trn AUC: 0.81, Val AUC: 0.687\n",
      "Fold [5/5], Epoch [21/50] --> Trn Loss: 0.49, Val Loss: 0.7, Trn AUC: 0.826, Val AUC: 0.818\n",
      "Fold [5/5], Epoch [22/50] --> Trn Loss: 0.48, Val Loss: 0.67, Trn AUC: 0.844, Val AUC: 0.822\n",
      "Fold [5/5], Epoch [23/50] --> Trn Loss: 0.45, Val Loss: 0.72, Trn AUC: 0.86, Val AUC: 0.75\n",
      "Fold [5/5], Epoch [24/50] --> Trn Loss: 0.46, Val Loss: 0.7, Trn AUC: 0.837, Val AUC: 0.786\n",
      "Fold [5/5], Epoch [25/50] --> Trn Loss: 0.51, Val Loss: 0.65, Trn AUC: 0.804, Val AUC: 0.8\n",
      "Fold [5/5], Epoch [26/50] --> Trn Loss: 0.47, Val Loss: 0.64, Trn AUC: 0.84, Val AUC: 0.804\n",
      "Fold [5/5], Epoch [27/50] --> Trn Loss: 0.48, Val Loss: 0.63, Trn AUC: 0.822, Val AUC: 0.822\n",
      "Fold [5/5], Epoch [28/50] --> Trn Loss: 0.46, Val Loss: 0.66, Trn AUC: 0.831, Val AUC: 0.818\n",
      "Fold [5/5], Epoch [29/50] --> Trn Loss: 0.43, Val Loss: 0.63, Trn AUC: 0.852, Val AUC: 0.855\n",
      "Fold [5/5], Epoch [30/50] --> Trn Loss: 0.45, Val Loss: 0.65, Trn AUC: 0.85, Val AUC: 0.829\n",
      "Fold [5/5], Epoch [31/50] --> Trn Loss: 0.39, Val Loss: 0.65, Trn AUC: 0.882, Val AUC: 0.866\n",
      "Fold [5/5], Epoch [32/50] --> Trn Loss: 0.42, Val Loss: 0.57, Trn AUC: 0.864, Val AUC: 0.866\n",
      "Fold [5/5], Epoch [33/50] --> Trn Loss: 0.42, Val Loss: 0.48, Trn AUC: 0.859, Val AUC: 0.885\n",
      "Fold [5/5], Epoch [34/50] --> Trn Loss: 0.42, Val Loss: 0.46, Trn AUC: 0.871, Val AUC: 0.897\n",
      "Fold [5/5], Epoch [35/50] --> Trn Loss: 0.42, Val Loss: 0.4, Trn AUC: 0.875, Val AUC: 0.895\n",
      "Fold [5/5], Epoch [36/50] --> Trn Loss: 0.39, Val Loss: 0.44, Trn AUC: 0.879, Val AUC: 0.884\n",
      "Fold [5/5], Epoch [37/50] --> Trn Loss: 0.39, Val Loss: 0.42, Trn AUC: 0.898, Val AUC: 0.877\n",
      "Fold [5/5], Epoch [38/50] --> Trn Loss: 0.4, Val Loss: 0.4, Trn AUC: 0.877, Val AUC: 0.894\n",
      "Fold [5/5], Epoch [39/50] --> Trn Loss: 0.41, Val Loss: 0.39, Trn AUC: 0.875, Val AUC: 0.894\n",
      "Fold [5/5], Epoch [40/50] --> Trn Loss: 0.38, Val Loss: 0.41, Trn AUC: 0.899, Val AUC: 0.884\n",
      "Fold [5/5], Epoch [41/50] --> Trn Loss: 0.43, Val Loss: 0.45, Trn AUC: 0.873, Val AUC: 0.887\n",
      "Fold [5/5], Epoch [42/50] --> Trn Loss: 0.38, Val Loss: 0.44, Trn AUC: 0.901, Val AUC: 0.882\n",
      "Fold [5/5], Epoch [43/50] --> Trn Loss: 0.36, Val Loss: 0.43, Trn AUC: 0.903, Val AUC: 0.886\n",
      "Fold [5/5], Epoch [44/50] --> Trn Loss: 0.34, Val Loss: 0.43, Trn AUC: 0.918, Val AUC: 0.892\n",
      "Fold [5/5], Epoch [45/50] --> Trn Loss: 0.38, Val Loss: 0.42, Trn AUC: 0.894, Val AUC: 0.891\n",
      "Fold [5/5], Epoch [46/50] --> Trn Loss: 0.38, Val Loss: 0.41, Trn AUC: 0.891, Val AUC: 0.896\n",
      "Fold [5/5], Epoch [47/50] --> Trn Loss: 0.35, Val Loss: 0.43, Trn AUC: 0.908, Val AUC: 0.892\n",
      "Fold [5/5], Epoch [48/50] --> Trn Loss: 0.39, Val Loss: 0.43, Trn AUC: 0.879, Val AUC: 0.889\n",
      "Fold [5/5], Epoch [49/50] --> Trn Loss: 0.34, Val Loss: 0.43, Trn AUC: 0.92, Val AUC: 0.893\n",
      "Fold [5/5], Epoch [50/50] --> Trn Loss: 0.41, Val Loss: 0.43, Trn AUC: 0.876, Val AUC: 0.893\n",
      "Test Performance -> Loss: 0.6, AUC: 0.87\n"
     ]
    }
   ],
   "source": [
    "# perform training (no return!)\n",
    "modeling.train_evaluate_model(config, trnloaders, valloaders, tstloader,\n",
    "                              verbose = config[\"verbose\"], ray = False, return_obj = False)"
   ]
  },
  {
   "cell_type": "markdown",
   "metadata": {},
   "source": [
    "#### 3.2 Hyperparameter Tuning"
   ]
  },
  {
   "cell_type": "code",
   "execution_count": 4,
   "metadata": {},
   "outputs": [],
   "source": [
    "# where to save trial results to\n",
    "ray_path = os.path.normpath(os.getcwd()).replace(\"\\\\\", \"/\") +\"/ray_results/\"\n",
    "if not os.path.isdir(ray_path):\n",
    "    os.mkdir(ray_path)\n",
    "\n",
    "# ignore warnings that show in every raytune run\n",
    "import warnings\n",
    "warnings.simplefilter(action = \"ignore\", category = np.VisibleDeprecationWarning)"
   ]
  },
  {
   "cell_type": "code",
   "execution_count": 5,
   "metadata": {},
   "outputs": [],
   "source": [
    "# tunable hyperparameter search space --> search using tune.choice([]), tune.uniform(lower, upper), tune.grid_search([])\n",
    "config = {\n",
    "    # basic infos\n",
    "    \"dir\": os.path.normpath(os.getcwd()).replace(\"\\\\\", \"/\"),\n",
    "    \"verbose\": False,\n",
    "    \"save\": True,\n",
    "    \n",
    "    # k-fold cross val settings\n",
    "    \"artificial_test_size\": 0.15,\n",
    "    \"k_cv\": 5, # must be bigger than 1\n",
    "    \"prediction_strategy\": \"avg\", # [\"avg\", \"max\"]\n",
    "    \n",
    "    # test set settings\n",
    "    \"official_test\": False,\n",
    "    \n",
    "    # model settings\n",
    "    \"model\": tune.grid_search([\"mobilenet_v3_small\", \"mobilenet_v3_large\", \"densenet121\", \"densenet161\"]),\n",
    "    \"max_epochs\": 50,\n",
    "    \"batch_size\": 16,\n",
    "    \n",
    "    # classifier settings\n",
    "    \"classifier\": \"shallow\",\n",
    "    \"width\": 512,\n",
    "    \"depth\": 2,\n",
    "    \n",
    "    # preprocessing\n",
    "    \"resize\": True, # resize images from (64, 64) to (224, 224)\n",
    "    \"apply_CLAHE\": False, # improve image contrast\n",
    "    \n",
    "    # scheduler\n",
    "    \"lr_s\": \"Cosine\", # StepLR decreases learning rate every 10 epochs by factor of 10\n",
    "    \n",
    "    # optimizer\n",
    "    \"optim_name\": tune.grid_search([\"AdamW\", \"SGD\"]),\n",
    "    \"lr\":   tune.grid_search([1e-2, 5e-3, 1e-3]),\n",
    "    \"wd\":   1e-2,\n",
    "    \"mom\":  0.9, # only for SGD\n",
    "    \n",
    "    # loss function\n",
    "    \"criterion\": \"BCE\"\n",
    "}"
   ]
  },
  {
   "cell_type": "code",
   "execution_count": null,
   "metadata": {
    "scrolled": false
   },
   "outputs": [
    {
     "data": {
      "text/html": [
       "<div class=\"tuneStatus\">\n",
       "  <div style=\"display: flex;flex-direction: row\">\n",
       "    <div style=\"display: flex;flex-direction: column;\">\n",
       "      <h3>Tune Status</h3>\n",
       "      <table>\n",
       "<tbody>\n",
       "<tr><td>Current time:</td><td>2023-05-16 08:34:36</td></tr>\n",
       "<tr><td>Running for: </td><td>04:03:48.45        </td></tr>\n",
       "<tr><td>Memory:      </td><td>15.7/31.9 GiB      </td></tr>\n",
       "</tbody>\n",
       "</table>\n",
       "    </div>\n",
       "    <div class=\"vDivider\"></div>\n",
       "    <div class=\"systemInfo\">\n",
       "      <h3>System Info</h3>\n",
       "      Using FIFO scheduling algorithm.<br>Resources requested: 16.0/16 CPUs, 1.0/1 GPUs, 0.0/12.47 GiB heap, 0.0/6.24 GiB objects\n",
       "    </div>\n",
       "    <div class=\"vDivider\"></div>\n",
       "<div class=\"messages\">\n",
       "  <h3>Messages</h3>\n",
       "  \n",
       "  ... 4 more trials not shown (3 PENDING)\n",
       "  \n",
       "</div>\n",
       "<style>\n",
       ".messages {\n",
       "  color: var(--jp-ui-font-color1);\n",
       "  display: flex;\n",
       "  flex-direction: column;\n",
       "  padding-left: 1em;\n",
       "  overflow-y: auto;\n",
       "}\n",
       ".messages h3 {\n",
       "  font-weight: bold;\n",
       "}\n",
       ".vDivider {\n",
       "  border-left-width: var(--jp-border-width);\n",
       "  border-left-color: var(--jp-border-color0);\n",
       "  border-left-style: solid;\n",
       "  margin: 0.5em 1em 0.5em 1em;\n",
       "}\n",
       "</style>\n",
       "\n",
       "  </div>\n",
       "  <div class=\"hDivider\"></div>\n",
       "  <div class=\"trialStatus\">\n",
       "    <h3>Trial Status</h3>\n",
       "    <table>\n",
       "<thead>\n",
       "<tr><th>Trial name  </th><th>status    </th><th>loc           </th><th>model          </th><th>optim_name  </th><th style=\"text-align: right;\">   lr</th><th style=\"text-align: right;\">  wd</th><th style=\"text-align: right;\">  trn_auc</th><th style=\"text-align: right;\">  val_auc</th><th style=\"text-align: right;\">  test_auc</th></tr>\n",
       "</thead>\n",
       "<tbody>\n",
       "<tr><td>aae81_00010 </td><td>RUNNING   </td><td>127.0.0.1:6632</td><td>densenet161    </td><td>AdamW       </td><td style=\"text-align: right;\">0.005</td><td style=\"text-align: right;\">0.01</td><td style=\"text-align: right;\">         </td><td style=\"text-align: right;\">         </td><td style=\"text-align: right;\">          </td></tr>\n",
       "<tr><td>aae81_00011 </td><td>PENDING   </td><td>              </td><td>densenet161    </td><td>AdamW       </td><td style=\"text-align: right;\">0.001</td><td style=\"text-align: right;\">0.01</td><td style=\"text-align: right;\">         </td><td style=\"text-align: right;\">         </td><td style=\"text-align: right;\">          </td></tr>\n",
       "<tr><td>aae81_00012 </td><td>PENDING   </td><td>              </td><td>mobilenet__97a0</td><td>SGD         </td><td style=\"text-align: right;\">0.01 </td><td style=\"text-align: right;\">0.01</td><td style=\"text-align: right;\">         </td><td style=\"text-align: right;\">         </td><td style=\"text-align: right;\">          </td></tr>\n",
       "<tr><td>aae81_00013 </td><td>PENDING   </td><td>              </td><td>mobilenet__97a0</td><td>SGD         </td><td style=\"text-align: right;\">0.005</td><td style=\"text-align: right;\">0.01</td><td style=\"text-align: right;\">         </td><td style=\"text-align: right;\">         </td><td style=\"text-align: right;\">          </td></tr>\n",
       "<tr><td>aae81_00014 </td><td>PENDING   </td><td>              </td><td>mobilenet__97a0</td><td>SGD         </td><td style=\"text-align: right;\">0.001</td><td style=\"text-align: right;\">0.01</td><td style=\"text-align: right;\">         </td><td style=\"text-align: right;\">         </td><td style=\"text-align: right;\">          </td></tr>\n",
       "<tr><td>aae81_00015 </td><td>PENDING   </td><td>              </td><td>mobilenet__9750</td><td>SGD         </td><td style=\"text-align: right;\">0.01 </td><td style=\"text-align: right;\">0.01</td><td style=\"text-align: right;\">         </td><td style=\"text-align: right;\">         </td><td style=\"text-align: right;\">          </td></tr>\n",
       "<tr><td>aae81_00016 </td><td>PENDING   </td><td>              </td><td>mobilenet__9750</td><td>SGD         </td><td style=\"text-align: right;\">0.005</td><td style=\"text-align: right;\">0.01</td><td style=\"text-align: right;\">         </td><td style=\"text-align: right;\">         </td><td style=\"text-align: right;\">          </td></tr>\n",
       "<tr><td>aae81_00017 </td><td>PENDING   </td><td>              </td><td>mobilenet__9750</td><td>SGD         </td><td style=\"text-align: right;\">0.001</td><td style=\"text-align: right;\">0.01</td><td style=\"text-align: right;\">         </td><td style=\"text-align: right;\">         </td><td style=\"text-align: right;\">          </td></tr>\n",
       "<tr><td>aae81_00018 </td><td>PENDING   </td><td>              </td><td>densenet121    </td><td>SGD         </td><td style=\"text-align: right;\">0.01 </td><td style=\"text-align: right;\">0.01</td><td style=\"text-align: right;\">         </td><td style=\"text-align: right;\">         </td><td style=\"text-align: right;\">          </td></tr>\n",
       "<tr><td>aae81_00019 </td><td>PENDING   </td><td>              </td><td>densenet121    </td><td>SGD         </td><td style=\"text-align: right;\">0.005</td><td style=\"text-align: right;\">0.01</td><td style=\"text-align: right;\">         </td><td style=\"text-align: right;\">         </td><td style=\"text-align: right;\">          </td></tr>\n",
       "<tr><td>aae81_00020 </td><td>PENDING   </td><td>              </td><td>densenet121    </td><td>SGD         </td><td style=\"text-align: right;\">0.001</td><td style=\"text-align: right;\">0.01</td><td style=\"text-align: right;\">         </td><td style=\"text-align: right;\">         </td><td style=\"text-align: right;\">          </td></tr>\n",
       "<tr><td>aae81_00000 </td><td>TERMINATED</td><td>127.0.0.1:6632</td><td>mobilenet__97a0</td><td>AdamW       </td><td style=\"text-align: right;\">0.01 </td><td style=\"text-align: right;\">0.01</td><td style=\"text-align: right;\"> 0.867821</td><td style=\"text-align: right;\"> 0.91372 </td><td style=\"text-align: right;\">  0.889423</td></tr>\n",
       "<tr><td>aae81_00001 </td><td>TERMINATED</td><td>127.0.0.1:6632</td><td>mobilenet__97a0</td><td>AdamW       </td><td style=\"text-align: right;\">0.005</td><td style=\"text-align: right;\">0.01</td><td style=\"text-align: right;\"> 0.875575</td><td style=\"text-align: right;\"> 0.916898</td><td style=\"text-align: right;\">  0.894231</td></tr>\n",
       "<tr><td>aae81_00002 </td><td>TERMINATED</td><td>127.0.0.1:6632</td><td>mobilenet__97a0</td><td>AdamW       </td><td style=\"text-align: right;\">0.001</td><td style=\"text-align: right;\">0.01</td><td style=\"text-align: right;\"> 0.899526</td><td style=\"text-align: right;\"> 0.897594</td><td style=\"text-align: right;\">  0.913462</td></tr>\n",
       "<tr><td>aae81_00003 </td><td>TERMINATED</td><td>127.0.0.1:6632</td><td>mobilenet__9750</td><td>AdamW       </td><td style=\"text-align: right;\">0.01 </td><td style=\"text-align: right;\">0.01</td><td style=\"text-align: right;\"> 0.86104 </td><td style=\"text-align: right;\"> 0.887928</td><td style=\"text-align: right;\">  0.858974</td></tr>\n",
       "<tr><td>aae81_00004 </td><td>TERMINATED</td><td>127.0.0.1:6632</td><td>mobilenet__9750</td><td>AdamW       </td><td style=\"text-align: right;\">0.005</td><td style=\"text-align: right;\">0.01</td><td style=\"text-align: right;\"> 0.868418</td><td style=\"text-align: right;\"> 0.901215</td><td style=\"text-align: right;\">  0.876603</td></tr>\n",
       "<tr><td>aae81_00005 </td><td>TERMINATED</td><td>127.0.0.1:6632</td><td>mobilenet__9750</td><td>AdamW       </td><td style=\"text-align: right;\">0.001</td><td style=\"text-align: right;\">0.01</td><td style=\"text-align: right;\"> 0.911612</td><td style=\"text-align: right;\"> 0.919403</td><td style=\"text-align: right;\">  0.892628</td></tr>\n",
       "<tr><td>aae81_00006 </td><td>TERMINATED</td><td>127.0.0.1:6632</td><td>densenet121    </td><td>AdamW       </td><td style=\"text-align: right;\">0.01 </td><td style=\"text-align: right;\">0.01</td><td style=\"text-align: right;\"> 0.847704</td><td style=\"text-align: right;\"> 0.878069</td><td style=\"text-align: right;\">  0.871795</td></tr>\n",
       "<tr><td>aae81_00007 </td><td>TERMINATED</td><td>127.0.0.1:6632</td><td>densenet121    </td><td>AdamW       </td><td style=\"text-align: right;\">0.005</td><td style=\"text-align: right;\">0.01</td><td style=\"text-align: right;\"> 0.844306</td><td style=\"text-align: right;\"> 0.895734</td><td style=\"text-align: right;\">  0.850962</td></tr>\n",
       "<tr><td>aae81_00008 </td><td>TERMINATED</td><td>127.0.0.1:6632</td><td>densenet121    </td><td>AdamW       </td><td style=\"text-align: right;\">0.001</td><td style=\"text-align: right;\">0.01</td><td style=\"text-align: right;\"> 0.878296</td><td style=\"text-align: right;\"> 0.904038</td><td style=\"text-align: right;\">  0.873397</td></tr>\n",
       "<tr><td>aae81_00009 </td><td>TERMINATED</td><td>127.0.0.1:6632</td><td>densenet161    </td><td>AdamW       </td><td style=\"text-align: right;\">0.01 </td><td style=\"text-align: right;\">0.01</td><td style=\"text-align: right;\"> 0.835529</td><td style=\"text-align: right;\"> 0.878305</td><td style=\"text-align: right;\">  0.858974</td></tr>\n",
       "</tbody>\n",
       "</table>\n",
       "  </div>\n",
       "</div>\n",
       "<style>\n",
       ".tuneStatus {\n",
       "  color: var(--jp-ui-font-color1);\n",
       "}\n",
       ".tuneStatus .systemInfo {\n",
       "  display: flex;\n",
       "  flex-direction: column;\n",
       "}\n",
       ".tuneStatus td {\n",
       "  white-space: nowrap;\n",
       "}\n",
       ".tuneStatus .trialStatus {\n",
       "  display: flex;\n",
       "  flex-direction: column;\n",
       "}\n",
       ".tuneStatus h3 {\n",
       "  font-weight: bold;\n",
       "}\n",
       ".tuneStatus .hDivider {\n",
       "  border-bottom-width: var(--jp-border-width);\n",
       "  border-bottom-color: var(--jp-border-color0);\n",
       "  border-bottom-style: solid;\n",
       "}\n",
       ".tuneStatus .vDivider {\n",
       "  border-left-width: var(--jp-border-width);\n",
       "  border-left-color: var(--jp-border-color0);\n",
       "  border-left-style: solid;\n",
       "  margin: 0.5em 1em 0.5em 1em;\n",
       "}\n",
       "</style>\n"
      ],
      "text/plain": [
       "<IPython.core.display.HTML object>"
      ]
     },
     "metadata": {},
     "output_type": "display_data"
    },
    {
     "name": "stderr",
     "output_type": "stream",
     "text": [
      "2023-05-16 04:30:46,872\tINFO worker.py:1553 -- Started a local Ray instance.\n"
     ]
    }
   ],
   "source": [
    "# how many trials to run (if grid_search utilized, it will run this number per grid_search value)\n",
    "num_samples = 1\n",
    "\n",
    "# run experiment\n",
    "result_grid = modeling.run_ray_experiment(\n",
    "    modeling.ray_trainable, config, ray_path, num_samples,\n",
    "    metric_columns = [\"trn_auc\", \"val_auc\", \"test_auc\"],\n",
    "    parameter_columns = [\"model\", \"optim_name\", \"lr\", \"wd\"]\n",
    ")"
   ]
  },
  {
   "cell_type": "markdown",
   "metadata": {},
   "source": [
    "**Analyze RayTune experiment.**"
   ]
  },
  {
   "cell_type": "code",
   "execution_count": 6,
   "metadata": {
    "scrolled": true
   },
   "outputs": [
    {
     "name": "stderr",
     "output_type": "stream",
     "text": [
      "The trainable will be overwritten - this should be done with caution: it's possible to supply an incompatible trainable, and there are no guarantees that the resumed experiment will continue successfully. If you encounter errors during training, ensure that you are passing in the same trainable that was passed into the initial `Tuner` object.\n"
     ]
    },
    {
     "name": "stdout",
     "output_type": "stream",
     "text": [
      "Loading results from ray_results/3_grid_stratkcv_densenet_mobilenet...\n",
      "Done!\n",
      "\n",
      "No errors! Number of terminated trials: 24\n"
     ]
    }
   ],
   "source": [
    "restored_tuner, result_grid = modeling.open_validate_ray_experiment(\"ray_results/3_grid_stratkcv_densenet_mobilenet\", modeling.ray_trainable)"
   ]
  },
  {
   "cell_type": "code",
   "execution_count": 9,
   "metadata": {},
   "outputs": [
    {
     "name": "stderr",
     "output_type": "stream",
     "text": [
      "Couldn't read config from 11 paths\n"
     ]
    },
    {
     "data": {
      "text/html": [
       "<div>\n",
       "<style scoped>\n",
       "    .dataframe tbody tr th:only-of-type {\n",
       "        vertical-align: middle;\n",
       "    }\n",
       "\n",
       "    .dataframe tbody tr th {\n",
       "        vertical-align: top;\n",
       "    }\n",
       "\n",
       "    .dataframe thead th {\n",
       "        text-align: right;\n",
       "    }\n",
       "</style>\n",
       "<table border=\"1\" class=\"dataframe\">\n",
       "  <thead>\n",
       "    <tr style=\"text-align: right;\">\n",
       "      <th></th>\n",
       "      <th>trial_id</th>\n",
       "      <th>config/max_epochs</th>\n",
       "      <th>config/batch_size</th>\n",
       "      <th>config/model</th>\n",
       "      <th>config/optim_name</th>\n",
       "      <th>config/lr</th>\n",
       "      <th>config/wd</th>\n",
       "      <th>trn_auc</th>\n",
       "      <th>val_auc</th>\n",
       "      <th>test_auc</th>\n",
       "    </tr>\n",
       "  </thead>\n",
       "  <tbody>\n",
       "    <tr>\n",
       "      <th>5</th>\n",
       "      <td>aae81_00005</td>\n",
       "      <td>50</td>\n",
       "      <td>16</td>\n",
       "      <td>mobilenet_v3_large</td>\n",
       "      <td>AdamW</td>\n",
       "      <td>0.001</td>\n",
       "      <td>0.01</td>\n",
       "      <td>0.911612</td>\n",
       "      <td>0.919403</td>\n",
       "      <td>0.892628</td>\n",
       "    </tr>\n",
       "    <tr>\n",
       "      <th>1</th>\n",
       "      <td>aae81_00001</td>\n",
       "      <td>50</td>\n",
       "      <td>16</td>\n",
       "      <td>mobilenet_v3_small</td>\n",
       "      <td>AdamW</td>\n",
       "      <td>0.005</td>\n",
       "      <td>0.01</td>\n",
       "      <td>0.875575</td>\n",
       "      <td>0.916898</td>\n",
       "      <td>0.894231</td>\n",
       "    </tr>\n",
       "    <tr>\n",
       "      <th>0</th>\n",
       "      <td>aae81_00000</td>\n",
       "      <td>50</td>\n",
       "      <td>16</td>\n",
       "      <td>mobilenet_v3_small</td>\n",
       "      <td>AdamW</td>\n",
       "      <td>0.010</td>\n",
       "      <td>0.01</td>\n",
       "      <td>0.867821</td>\n",
       "      <td>0.913720</td>\n",
       "      <td>0.889423</td>\n",
       "    </tr>\n",
       "    <tr>\n",
       "      <th>8</th>\n",
       "      <td>aae81_00008</td>\n",
       "      <td>50</td>\n",
       "      <td>16</td>\n",
       "      <td>densenet121</td>\n",
       "      <td>AdamW</td>\n",
       "      <td>0.001</td>\n",
       "      <td>0.01</td>\n",
       "      <td>0.878296</td>\n",
       "      <td>0.904038</td>\n",
       "      <td>0.873397</td>\n",
       "    </tr>\n",
       "    <tr>\n",
       "      <th>4</th>\n",
       "      <td>aae81_00004</td>\n",
       "      <td>50</td>\n",
       "      <td>16</td>\n",
       "      <td>mobilenet_v3_large</td>\n",
       "      <td>AdamW</td>\n",
       "      <td>0.005</td>\n",
       "      <td>0.01</td>\n",
       "      <td>0.868418</td>\n",
       "      <td>0.901215</td>\n",
       "      <td>0.876603</td>\n",
       "    </tr>\n",
       "    <tr>\n",
       "      <th>2</th>\n",
       "      <td>aae81_00002</td>\n",
       "      <td>50</td>\n",
       "      <td>16</td>\n",
       "      <td>mobilenet_v3_small</td>\n",
       "      <td>AdamW</td>\n",
       "      <td>0.001</td>\n",
       "      <td>0.01</td>\n",
       "      <td>0.899526</td>\n",
       "      <td>0.897594</td>\n",
       "      <td>0.913462</td>\n",
       "    </tr>\n",
       "    <tr>\n",
       "      <th>7</th>\n",
       "      <td>aae81_00007</td>\n",
       "      <td>50</td>\n",
       "      <td>16</td>\n",
       "      <td>densenet121</td>\n",
       "      <td>AdamW</td>\n",
       "      <td>0.005</td>\n",
       "      <td>0.01</td>\n",
       "      <td>0.844306</td>\n",
       "      <td>0.895734</td>\n",
       "      <td>0.850962</td>\n",
       "    </tr>\n",
       "    <tr>\n",
       "      <th>3</th>\n",
       "      <td>aae81_00003</td>\n",
       "      <td>50</td>\n",
       "      <td>16</td>\n",
       "      <td>mobilenet_v3_large</td>\n",
       "      <td>AdamW</td>\n",
       "      <td>0.010</td>\n",
       "      <td>0.01</td>\n",
       "      <td>0.861040</td>\n",
       "      <td>0.887928</td>\n",
       "      <td>0.858974</td>\n",
       "    </tr>\n",
       "    <tr>\n",
       "      <th>9</th>\n",
       "      <td>aae81_00009</td>\n",
       "      <td>50</td>\n",
       "      <td>16</td>\n",
       "      <td>densenet161</td>\n",
       "      <td>AdamW</td>\n",
       "      <td>0.010</td>\n",
       "      <td>0.01</td>\n",
       "      <td>0.835529</td>\n",
       "      <td>0.878305</td>\n",
       "      <td>0.858974</td>\n",
       "    </tr>\n",
       "    <tr>\n",
       "      <th>6</th>\n",
       "      <td>aae81_00006</td>\n",
       "      <td>50</td>\n",
       "      <td>16</td>\n",
       "      <td>densenet121</td>\n",
       "      <td>AdamW</td>\n",
       "      <td>0.010</td>\n",
       "      <td>0.01</td>\n",
       "      <td>0.847704</td>\n",
       "      <td>0.878069</td>\n",
       "      <td>0.871795</td>\n",
       "    </tr>\n",
       "    <tr>\n",
       "      <th>10</th>\n",
       "      <td>aae81_00010</td>\n",
       "      <td>50</td>\n",
       "      <td>16</td>\n",
       "      <td>densenet161</td>\n",
       "      <td>AdamW</td>\n",
       "      <td>0.005</td>\n",
       "      <td>0.01</td>\n",
       "      <td>0.832946</td>\n",
       "      <td>0.871808</td>\n",
       "      <td>0.862179</td>\n",
       "    </tr>\n",
       "    <tr>\n",
       "      <th>11</th>\n",
       "      <td>aae81_00014</td>\n",
       "      <td>50</td>\n",
       "      <td>16</td>\n",
       "      <td>mobilenet_v3_small</td>\n",
       "      <td>SGD</td>\n",
       "      <td>0.001</td>\n",
       "      <td>0.01</td>\n",
       "      <td>0.788406</td>\n",
       "      <td>0.825976</td>\n",
       "      <td>0.899038</td>\n",
       "    </tr>\n",
       "  </tbody>\n",
       "</table>\n",
       "</div>"
      ],
      "text/plain": [
       "       trial_id  config/max_epochs  config/batch_size        config/model  \\\n",
       "5   aae81_00005                 50                 16  mobilenet_v3_large   \n",
       "1   aae81_00001                 50                 16  mobilenet_v3_small   \n",
       "0   aae81_00000                 50                 16  mobilenet_v3_small   \n",
       "8   aae81_00008                 50                 16         densenet121   \n",
       "4   aae81_00004                 50                 16  mobilenet_v3_large   \n",
       "2   aae81_00002                 50                 16  mobilenet_v3_small   \n",
       "7   aae81_00007                 50                 16         densenet121   \n",
       "3   aae81_00003                 50                 16  mobilenet_v3_large   \n",
       "9   aae81_00009                 50                 16         densenet161   \n",
       "6   aae81_00006                 50                 16         densenet121   \n",
       "10  aae81_00010                 50                 16         densenet161   \n",
       "11  aae81_00014                 50                 16  mobilenet_v3_small   \n",
       "\n",
       "   config/optim_name  config/lr  config/wd   trn_auc   val_auc  test_auc  \n",
       "5              AdamW      0.001       0.01  0.911612  0.919403  0.892628  \n",
       "1              AdamW      0.005       0.01  0.875575  0.916898  0.894231  \n",
       "0              AdamW      0.010       0.01  0.867821  0.913720  0.889423  \n",
       "8              AdamW      0.001       0.01  0.878296  0.904038  0.873397  \n",
       "4              AdamW      0.005       0.01  0.868418  0.901215  0.876603  \n",
       "2              AdamW      0.001       0.01  0.899526  0.897594  0.913462  \n",
       "7              AdamW      0.005       0.01  0.844306  0.895734  0.850962  \n",
       "3              AdamW      0.010       0.01  0.861040  0.887928  0.858974  \n",
       "9              AdamW      0.010       0.01  0.835529  0.878305  0.858974  \n",
       "6              AdamW      0.010       0.01  0.847704  0.878069  0.871795  \n",
       "10             AdamW      0.005       0.01  0.832946  0.871808  0.862179  \n",
       "11               SGD      0.001       0.01  0.788406  0.825976  0.899038  "
      ]
     },
     "execution_count": 9,
     "metadata": {},
     "output_type": "execute_result"
    }
   ],
   "source": [
    "# get best N trials in this experiment (highest validation accuracy [averaged across 4 folds])\n",
    "N = 20\n",
    "best_result_df = result_grid.get_dataframe(\n",
    "    filter_metric=\"val_auc\", filter_mode=\"max\"\n",
    ")\n",
    "best_result_df = best_result_df[[\"trial_id\",\n",
    "                                 \"config/max_epochs\", \"config/batch_size\",\n",
    "                                 \"config/model\", # \"config/prediction_strategy\",\n",
    "                                 #\"config/apply_CLAHE\", \"config/resize\",\n",
    "                                 \"config/optim_name\", \"config/lr\", \"config/wd\", # \"config/lr_s\", \"config/mom\", \n",
    "                                 \"trn_auc\", \"val_auc\", \"test_auc\"]]\n",
    "\n",
    "best_result_df = best_result_df.sort_values(by=[\"val_auc\"], ascending = False)\n",
    "\n",
    "if len(result_grid) > N:\n",
    "    best_result_df = best_result_df.head(N)\n",
    "\n",
    "best_result_df"
   ]
  },
  {
   "cell_type": "markdown",
   "metadata": {},
   "source": [
    "**Load best model for inference**"
   ]
  },
  {
   "cell_type": "code",
   "execution_count": 17,
   "metadata": {},
   "outputs": [],
   "source": [
    "config = {\n",
    "    # basic infos\n",
    "    \"dir\": os.path.normpath(os.getcwd()).replace(\"\\\\\", \"/\"),\n",
    "    \"verbose\": True,\n",
    "    \"save\": True,\n",
    "    \n",
    "    # k-fold cross val settings\n",
    "    \"artificial_test_size\": 0.2,\n",
    "    \"k_cv\": 3, # must be bigger than 1\n",
    "    \n",
    "    # test set settings\n",
    "    \"official_test\": False,\n",
    "    \n",
    "    # model settings\n",
    "    \"max_epochs\": 50,\n",
    "    \"batch_size\": 16,\n",
    "    \n",
    "    # preprocessing\n",
    "    \"resize\": True, # resize images from (64, 64) to (224, 224)\n",
    "    \"apply_CLAHE\": False, # improve image contrast\n",
    "    \n",
    "    # model\n",
    "    \"model\": \"ResNet34\",\n",
    "    \"pretrained\": False,\n",
    "    \n",
    "    # scheduler\n",
    "    \"lr_s\": \"Cosine\", # StepLR decreases learning rate every 10 epochs by factor of 10\n",
    "    \n",
    "    # optimizer\n",
    "    \"lr\":   1e-2,\n",
    "    \"wd\":   1e-2,\n",
    "    \"mom\":  0.9,\n",
    "    \n",
    "    # loss function\n",
    "    \"criterion\": \"BCE\"\n",
    "}"
   ]
  },
  {
   "cell_type": "code",
   "execution_count": 18,
   "metadata": {},
   "outputs": [],
   "source": [
    "(model, optimizer, trnloader, valloader, tstloader, scheduler, scheduler_step, criterion, device) = modeling.init_training(config)"
   ]
  },
  {
   "cell_type": "code",
   "execution_count": 19,
   "metadata": {
    "scrolled": true
   },
   "outputs": [
    {
     "name": "stdout",
     "output_type": "stream",
     "text": [
      "\n"
     ]
    }
   ],
   "source": [
    "path = \"models/best_ResNet34.pt\"\n",
    "model.load_state_dict(torch.load(path))\n",
    "model.eval()\n",
    "print(\"\")"
   ]
  },
  {
   "cell_type": "code",
   "execution_count": 31,
   "metadata": {
    "scrolled": true
   },
   "outputs": [
    {
     "data": {
      "text/plain": [
       "(0.9302325581395349, 0.9820728291316526, 0.1945905089378357)"
      ]
     },
     "execution_count": 31,
     "metadata": {},
     "output_type": "execute_result"
    }
   ],
   "source": [
    "modeling.test_epoch(valloader, model, criterion, device)"
   ]
  }
 ],
 "metadata": {
  "kernelspec": {
   "display_name": "Python 3 (ipykernel)",
   "language": "python",
   "name": "python3"
  },
  "language_info": {
   "codemirror_mode": {
    "name": "ipython",
    "version": 3
   },
   "file_extension": ".py",
   "mimetype": "text/x-python",
   "name": "python",
   "nbconvert_exporter": "python",
   "pygments_lexer": "ipython3",
   "version": "3.10.8"
  }
 },
 "nbformat": 4,
 "nbformat_minor": 2
}
